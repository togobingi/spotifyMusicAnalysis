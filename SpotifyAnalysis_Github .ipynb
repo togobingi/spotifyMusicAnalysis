{
 "cells": [
  {
   "cell_type": "code",
   "execution_count": 3,
   "metadata": {},
   "outputs": [],
   "source": [
    "import spotipy\n",
    "from spotipy.oauth2 import SpotifyClientCredentials\n",
    "import matplotlib.pyplot as plt\n",
    "import pandas as pd\n",
    "import seaborn as sns\n",
    "from matplotlib import style\n",
    "from spotipy import util\n",
    "\n",
    "\n"
   ]
  },
  {
   "cell_type": "markdown",
   "metadata": {},
   "source": [
    "## Create Spotify Object"
   ]
  },
  {
   "cell_type": "code",
   "execution_count": null,
   "metadata": {},
   "outputs": [],
   "source": [
    "cid =\"Your_Client_ID\" \n",
    "secret = \"Your_Secret\"\n",
    "\n",
    "client_credentials_manager = SpotifyClientCredentials(client_id=cid, client_secret=secret) \n",
    "sp = spotipy.Spotify(client_credentials_manager=client_credentials_manager)"
   ]
  },
  {
   "cell_type": "code",
   "execution_count": 4,
   "metadata": {},
   "outputs": [],
   "source": [
    "#Create Spotify object \n",
    "spotify = spotipy.Spotify()\n"
   ]
  },
  {
   "cell_type": "code",
   "execution_count": 92,
   "metadata": {},
   "outputs": [],
   "source": [
    "#Get features of the audio file; such as danceability, valence etc\n",
    "def get_audio_features(spotify,ids):\n",
    "    \"\"\" Pass in a Series of Spotify song id's and returns a Dataframe\"\"\"\n",
    "\n",
    "    print(\"Starting audio feature collection\")\n",
    "    music_features = pd.DataFrame(spotify.audio_features(ids))\n",
    "    print(\"Finishe audio feature collection\")\n",
    "    return music_features"
   ]
  },
  {
   "cell_type": "code",
   "execution_count": 93,
   "metadata": {},
   "outputs": [
    {
     "name": "stdout",
     "output_type": "stream",
     "text": [
      "Starting audio feature collection\n",
      "Finishe audio feature collection\n"
     ]
    }
   ],
   "source": [
    "music_featurez = get_audio_features(sp,'ID')"
   ]
  },
  {
   "cell_type": "markdown",
   "metadata": {},
   "source": [
    "# Print out all my Playlists"
   ]
  },
  {
   "cell_type": "code",
   "execution_count": null,
   "metadata": {},
   "outputs": [],
   "source": [
    "#Print out all playlist names\n",
    "playlists = sp.user_playlists('Your-Spotify-username')\n",
    "while playlists:\n",
    "    for i, playlist in enumerate(playlists['items']):\n",
    "        print(\"%4d %s %s\" % (i + 1 + playlists['offset'], playlist['uri'],  playlist['name']))\n",
    "    if playlists['next']:\n",
    "        playlists = sp.next(playlists)\n",
    "    else:\n",
    "        playlists = None"
   ]
  },
  {
   "cell_type": "markdown",
   "metadata": {},
   "source": [
    "## Get all the tracks listed in a playlist"
   ]
  },
  {
   "cell_type": "code",
   "execution_count": 33,
   "metadata": {},
   "outputs": [],
   "source": [
    "#Get track results from playlist based on the playlist ID\n",
    "track_results = sp.user_playlist(\"Your-Spotify-username\", \"your-playlist-ID\")"
   ]
  },
  {
   "cell_type": "markdown",
   "metadata": {},
   "source": [
    "## Convert track results into a Pandas dataframe"
   ]
  },
  {
   "cell_type": "code",
   "execution_count": 39,
   "metadata": {},
   "outputs": [],
   "source": [
    "df_tracks = pd.DataFrame([[t[\"track\"][\"id\"], t[\"track\"][\"name\"], t[\"track\"][\"artists\"][0][\"id\"], \n",
    "                           t[\"track\"][\"artists\"][0][\"name\"], t[\"track\"][\"album\"][\"name\"], t[\"track\"][\"popularity\"]] \n",
    "                          \n",
    "                          for t in track_results['tracks']['items']],\n",
    "                         \n",
    "                         columns=[\"id\", \"song_name\", \"artist_id\", \"artist_name\", \"album_name\", \"popularity\"]) "
   ]
  },
  {
   "cell_type": "markdown",
   "metadata": {},
   "source": [
    "## Normalize \"Popularity\" so it is on the same scale as other features"
   ]
  },
  {
   "cell_type": "code",
   "execution_count": 40,
   "metadata": {},
   "outputs": [
    {
     "data": {
      "text/html": [
       "<div>\n",
       "<style scoped>\n",
       "    .dataframe tbody tr th:only-of-type {\n",
       "        vertical-align: middle;\n",
       "    }\n",
       "\n",
       "    .dataframe tbody tr th {\n",
       "        vertical-align: top;\n",
       "    }\n",
       "\n",
       "    .dataframe thead th {\n",
       "        text-align: right;\n",
       "    }\n",
       "</style>\n",
       "<table border=\"1\" class=\"dataframe\">\n",
       "  <thead>\n",
       "    <tr style=\"text-align: right;\">\n",
       "      <th></th>\n",
       "      <th>id</th>\n",
       "      <th>song_name</th>\n",
       "      <th>artist_id</th>\n",
       "      <th>artist_name</th>\n",
       "      <th>album_name</th>\n",
       "      <th>popularity</th>\n",
       "      <th>norm_popularity</th>\n",
       "    </tr>\n",
       "  </thead>\n",
       "  <tbody>\n",
       "    <tr>\n",
       "      <th>0</th>\n",
       "      <td>60jh7oiCKKmStpzm8uQPUa</td>\n",
       "      <td>Yours (Glory and Praise)</td>\n",
       "      <td>3YCKuqpv9nCsIhJ2v8SMix</td>\n",
       "      <td>Elevation Worship</td>\n",
       "      <td>There Is a Cloud</td>\n",
       "      <td>53</td>\n",
       "      <td>0.53</td>\n",
       "    </tr>\n",
       "    <tr>\n",
       "      <th>1</th>\n",
       "      <td>0naheLc5o40oqBjxi1v4EI</td>\n",
       "      <td>I Will Exalt (feat. Amanda Cook)</td>\n",
       "      <td>26T4yOaOoFJvUvxR87Y9HO</td>\n",
       "      <td>Bethel Music</td>\n",
       "      <td>Be Lifted High</td>\n",
       "      <td>47</td>\n",
       "      <td>0.47</td>\n",
       "    </tr>\n",
       "    <tr>\n",
       "      <th>2</th>\n",
       "      <td>3uWOS5d4UBE62UwvzvZNPF</td>\n",
       "      <td>Deep Cries Out</td>\n",
       "      <td>26T4yOaOoFJvUvxR87Y9HO</td>\n",
       "      <td>Bethel Music</td>\n",
       "      <td>Be Lifted High</td>\n",
       "      <td>46</td>\n",
       "      <td>0.46</td>\n",
       "    </tr>\n",
       "    <tr>\n",
       "      <th>3</th>\n",
       "      <td>6t4mncxgMmg2HhXdI4N8lY</td>\n",
       "      <td>It's A Wonderful World</td>\n",
       "      <td>602DnpaSXJB4b9DZrvxbDc</td>\n",
       "      <td>Peggy Lee</td>\n",
       "      <td>Things Are Swingin'</td>\n",
       "      <td>11</td>\n",
       "      <td>0.11</td>\n",
       "    </tr>\n",
       "    <tr>\n",
       "      <th>4</th>\n",
       "      <td>4lD6Rr1Z7oNhKh0EtdCNpf</td>\n",
       "      <td>Here's My Heart - Live</td>\n",
       "      <td>6eJqAWJdd8JhAN1pQGie4r</td>\n",
       "      <td>Casting Crowns</td>\n",
       "      <td>A Live Worship Experience</td>\n",
       "      <td>52</td>\n",
       "      <td>0.52</td>\n",
       "    </tr>\n",
       "  </tbody>\n",
       "</table>\n",
       "</div>"
      ],
      "text/plain": [
       "                       id                         song_name  \\\n",
       "0  60jh7oiCKKmStpzm8uQPUa          Yours (Glory and Praise)   \n",
       "1  0naheLc5o40oqBjxi1v4EI  I Will Exalt (feat. Amanda Cook)   \n",
       "2  3uWOS5d4UBE62UwvzvZNPF                    Deep Cries Out   \n",
       "3  6t4mncxgMmg2HhXdI4N8lY            It's A Wonderful World   \n",
       "4  4lD6Rr1Z7oNhKh0EtdCNpf            Here's My Heart - Live   \n",
       "\n",
       "                artist_id        artist_name                 album_name  \\\n",
       "0  3YCKuqpv9nCsIhJ2v8SMix  Elevation Worship           There Is a Cloud   \n",
       "1  26T4yOaOoFJvUvxR87Y9HO       Bethel Music             Be Lifted High   \n",
       "2  26T4yOaOoFJvUvxR87Y9HO       Bethel Music             Be Lifted High   \n",
       "3  602DnpaSXJB4b9DZrvxbDc          Peggy Lee        Things Are Swingin'   \n",
       "4  6eJqAWJdd8JhAN1pQGie4r     Casting Crowns  A Live Worship Experience   \n",
       "\n",
       "   popularity  norm_popularity  \n",
       "0          53             0.53  \n",
       "1          47             0.47  \n",
       "2          46             0.46  \n",
       "3          11             0.11  \n",
       "4          52             0.52  "
      ]
     },
     "execution_count": 40,
     "metadata": {},
     "output_type": "execute_result"
    }
   ],
   "source": [
    "df_tracks[\"norm_popularity\"] = df_tracks[\"popularity\"] / 100.\n",
    "\n",
    "df_tracks.head()"
   ]
  },
  {
   "cell_type": "markdown",
   "metadata": {},
   "source": [
    "# Plot artist frequency in my playlist"
   ]
  },
  {
   "cell_type": "code",
   "execution_count": 47,
   "metadata": {},
   "outputs": [],
   "source": [
    "import plotly.plotly as py\n",
    "import plotly.graph_objs as go"
   ]
  },
  {
   "cell_type": "code",
   "execution_count": 177,
   "metadata": {},
   "outputs": [
    {
     "name": "stderr",
     "output_type": "stream",
     "text": [
      "C:\\Users\\Tobi\\Anaconda2\\lib\\site-packages\\IPython\\core\\display.py:689: UserWarning:\n",
      "\n",
      "Consider using IPython.display.IFrame instead\n",
      "\n"
     ]
    },
    {
     "data": {
      "text/html": [
       "<iframe id=\"igraph\" scrolling=\"no\" style=\"border:none;\" seamless=\"seamless\" src=\"https://plot.ly/~togobingi/29.embed\" height=\"525px\" width=\"100%\"></iframe>"
      ],
      "text/plain": [
       "<chart_studio.tools.PlotlyDisplay object>"
      ]
     },
     "execution_count": 177,
     "metadata": {},
     "output_type": "execute_result"
    }
   ],
   "source": [
    "trace = go.Histogram(x=df_tracks['artist_name'])\n",
    "data = [trace]\n",
    "py.iplot(data)"
   ]
  },
  {
   "cell_type": "code",
   "execution_count": 61,
   "metadata": {},
   "outputs": [
    {
     "data": {
      "text/plain": [
       "0    Elevation Worship\n",
       "1         Bethel Music\n",
       "Name: artist_name, dtype: object"
      ]
     },
     "execution_count": 61,
     "metadata": {},
     "output_type": "execute_result"
    }
   ],
   "source": [
    "df_tracks['artist_name'][:2]"
   ]
  },
  {
   "cell_type": "code",
   "execution_count": 183,
   "metadata": {},
   "outputs": [
    {
     "data": {
      "text/html": [
       "<div>\n",
       "<style scoped>\n",
       "    .dataframe tbody tr th:only-of-type {\n",
       "        vertical-align: middle;\n",
       "    }\n",
       "\n",
       "    .dataframe tbody tr th {\n",
       "        vertical-align: top;\n",
       "    }\n",
       "\n",
       "    .dataframe thead th {\n",
       "        text-align: right;\n",
       "    }\n",
       "</style>\n",
       "<table border=\"1\" class=\"dataframe\">\n",
       "  <thead>\n",
       "    <tr style=\"text-align: right;\">\n",
       "      <th></th>\n",
       "      <th>id</th>\n",
       "      <th>song_name</th>\n",
       "      <th>artist_id</th>\n",
       "      <th>artist_name</th>\n",
       "      <th>album_name</th>\n",
       "      <th>popularity</th>\n",
       "      <th>norm_popularity</th>\n",
       "    </tr>\n",
       "  </thead>\n",
       "  <tbody>\n",
       "    <tr>\n",
       "      <th>0</th>\n",
       "      <td>60jh7oiCKKmStpzm8uQPUa</td>\n",
       "      <td>Yours (Glory and Praise)</td>\n",
       "      <td>3YCKuqpv9nCsIhJ2v8SMix</td>\n",
       "      <td>Elevation Worship</td>\n",
       "      <td>There Is a Cloud</td>\n",
       "      <td>53</td>\n",
       "      <td>0.53</td>\n",
       "    </tr>\n",
       "    <tr>\n",
       "      <th>1</th>\n",
       "      <td>0naheLc5o40oqBjxi1v4EI</td>\n",
       "      <td>I Will Exalt (feat. Amanda Cook)</td>\n",
       "      <td>26T4yOaOoFJvUvxR87Y9HO</td>\n",
       "      <td>Bethel Music</td>\n",
       "      <td>Be Lifted High</td>\n",
       "      <td>47</td>\n",
       "      <td>0.47</td>\n",
       "    </tr>\n",
       "    <tr>\n",
       "      <th>2</th>\n",
       "      <td>3uWOS5d4UBE62UwvzvZNPF</td>\n",
       "      <td>Deep Cries Out</td>\n",
       "      <td>26T4yOaOoFJvUvxR87Y9HO</td>\n",
       "      <td>Bethel Music</td>\n",
       "      <td>Be Lifted High</td>\n",
       "      <td>46</td>\n",
       "      <td>0.46</td>\n",
       "    </tr>\n",
       "    <tr>\n",
       "      <th>3</th>\n",
       "      <td>6t4mncxgMmg2HhXdI4N8lY</td>\n",
       "      <td>It's A Wonderful World</td>\n",
       "      <td>602DnpaSXJB4b9DZrvxbDc</td>\n",
       "      <td>Peggy Lee</td>\n",
       "      <td>Things Are Swingin'</td>\n",
       "      <td>11</td>\n",
       "      <td>0.11</td>\n",
       "    </tr>\n",
       "    <tr>\n",
       "      <th>4</th>\n",
       "      <td>4lD6Rr1Z7oNhKh0EtdCNpf</td>\n",
       "      <td>Here's My Heart - Live</td>\n",
       "      <td>6eJqAWJdd8JhAN1pQGie4r</td>\n",
       "      <td>Casting Crowns</td>\n",
       "      <td>A Live Worship Experience</td>\n",
       "      <td>52</td>\n",
       "      <td>0.52</td>\n",
       "    </tr>\n",
       "  </tbody>\n",
       "</table>\n",
       "</div>"
      ],
      "text/plain": [
       "                       id                         song_name  \\\n",
       "0  60jh7oiCKKmStpzm8uQPUa          Yours (Glory and Praise)   \n",
       "1  0naheLc5o40oqBjxi1v4EI  I Will Exalt (feat. Amanda Cook)   \n",
       "2  3uWOS5d4UBE62UwvzvZNPF                    Deep Cries Out   \n",
       "3  6t4mncxgMmg2HhXdI4N8lY            It's A Wonderful World   \n",
       "4  4lD6Rr1Z7oNhKh0EtdCNpf            Here's My Heart - Live   \n",
       "\n",
       "                artist_id        artist_name                 album_name  \\\n",
       "0  3YCKuqpv9nCsIhJ2v8SMix  Elevation Worship           There Is a Cloud   \n",
       "1  26T4yOaOoFJvUvxR87Y9HO       Bethel Music             Be Lifted High   \n",
       "2  26T4yOaOoFJvUvxR87Y9HO       Bethel Music             Be Lifted High   \n",
       "3  602DnpaSXJB4b9DZrvxbDc          Peggy Lee        Things Are Swingin'   \n",
       "4  6eJqAWJdd8JhAN1pQGie4r     Casting Crowns  A Live Worship Experience   \n",
       "\n",
       "   popularity  norm_popularity  \n",
       "0          53             0.53  \n",
       "1          47             0.47  \n",
       "2          46             0.46  \n",
       "3          11             0.11  \n",
       "4          52             0.52  "
      ]
     },
     "execution_count": 183,
     "metadata": {},
     "output_type": "execute_result"
    }
   ],
   "source": [
    "df_tracks.head()"
   ]
  },
  {
   "cell_type": "code",
   "execution_count": 185,
   "metadata": {},
   "outputs": [
    {
     "name": "stdout",
     "output_type": "stream",
     "text": [
      "<class 'pandas.core.frame.DataFrame'>\n",
      "RangeIndex: 79 entries, 0 to 78\n",
      "Data columns (total 7 columns):\n",
      "id                 79 non-null object\n",
      "song_name          79 non-null object\n",
      "artist_id          79 non-null object\n",
      "artist_name        79 non-null object\n",
      "album_name         79 non-null object\n",
      "popularity         79 non-null int64\n",
      "norm_popularity    79 non-null float64\n",
      "dtypes: float64(1), int64(1), object(5)\n",
      "memory usage: 4.4+ KB\n"
     ]
    }
   ],
   "source": [
    "df_tracks.info()"
   ]
  },
  {
   "cell_type": "code",
   "execution_count": 58,
   "metadata": {},
   "outputs": [
    {
     "data": {
      "text/html": [
       "<div>\n",
       "<style scoped>\n",
       "    .dataframe tbody tr th:only-of-type {\n",
       "        vertical-align: middle;\n",
       "    }\n",
       "\n",
       "    .dataframe tbody tr th {\n",
       "        vertical-align: top;\n",
       "    }\n",
       "\n",
       "    .dataframe thead th {\n",
       "        text-align: right;\n",
       "    }\n",
       "</style>\n",
       "<table border=\"1\" class=\"dataframe\">\n",
       "  <thead>\n",
       "    <tr style=\"text-align: right;\">\n",
       "      <th></th>\n",
       "      <th>id</th>\n",
       "      <th>song_name</th>\n",
       "      <th>artist_id</th>\n",
       "      <th>artist_name</th>\n",
       "      <th>album_name</th>\n",
       "      <th>popularity</th>\n",
       "      <th>norm_popularity</th>\n",
       "    </tr>\n",
       "  </thead>\n",
       "  <tbody>\n",
       "    <tr>\n",
       "      <th>0</th>\n",
       "      <td>60jh7oiCKKmStpzm8uQPUa</td>\n",
       "      <td>Yours (Glory and Praise)</td>\n",
       "      <td>3YCKuqpv9nCsIhJ2v8SMix</td>\n",
       "      <td>Elevation Worship</td>\n",
       "      <td>There Is a Cloud</td>\n",
       "      <td>53</td>\n",
       "      <td>0.53</td>\n",
       "    </tr>\n",
       "    <tr>\n",
       "      <th>1</th>\n",
       "      <td>0naheLc5o40oqBjxi1v4EI</td>\n",
       "      <td>I Will Exalt (feat. Amanda Cook)</td>\n",
       "      <td>26T4yOaOoFJvUvxR87Y9HO</td>\n",
       "      <td>Bethel Music</td>\n",
       "      <td>Be Lifted High</td>\n",
       "      <td>47</td>\n",
       "      <td>0.47</td>\n",
       "    </tr>\n",
       "  </tbody>\n",
       "</table>\n",
       "</div>"
      ],
      "text/plain": [
       "                       id                         song_name  \\\n",
       "0  60jh7oiCKKmStpzm8uQPUa          Yours (Glory and Praise)   \n",
       "1  0naheLc5o40oqBjxi1v4EI  I Will Exalt (feat. Amanda Cook)   \n",
       "\n",
       "                artist_id        artist_name        album_name  popularity  \\\n",
       "0  3YCKuqpv9nCsIhJ2v8SMix  Elevation Worship  There Is a Cloud          53   \n",
       "1  26T4yOaOoFJvUvxR87Y9HO       Bethel Music    Be Lifted High          47   \n",
       "\n",
       "   norm_popularity  \n",
       "0             0.53  \n",
       "1             0.47  "
      ]
     },
     "execution_count": 58,
     "metadata": {},
     "output_type": "execute_result"
    }
   ],
   "source": [
    "df_tracks[:2]"
   ]
  },
  {
   "cell_type": "code",
   "execution_count": 63,
   "metadata": {},
   "outputs": [
    {
     "name": "stdout",
     "output_type": "stream",
     "text": [
      "<class 'pandas.core.frame.DataFrame'>\n",
      "RangeIndex: 79 entries, 0 to 78\n",
      "Data columns (total 7 columns):\n",
      "id                 79 non-null object\n",
      "song_name          79 non-null object\n",
      "artist_id          79 non-null object\n",
      "artist_name        79 non-null object\n",
      "album_name         79 non-null object\n",
      "popularity         79 non-null int64\n",
      "norm_popularity    79 non-null float64\n",
      "dtypes: float64(1), int64(1), object(5)\n",
      "memory usage: 4.4+ KB\n"
     ]
    }
   ],
   "source": [
    "df_tracks.info()"
   ]
  },
  {
   "cell_type": "code",
   "execution_count": 74,
   "metadata": {},
   "outputs": [
    {
     "data": {
      "text/html": [
       "<div>\n",
       "<style scoped>\n",
       "    .dataframe tbody tr th:only-of-type {\n",
       "        vertical-align: middle;\n",
       "    }\n",
       "\n",
       "    .dataframe tbody tr th {\n",
       "        vertical-align: top;\n",
       "    }\n",
       "\n",
       "    .dataframe thead th {\n",
       "        text-align: right;\n",
       "    }\n",
       "</style>\n",
       "<table border=\"1\" class=\"dataframe\">\n",
       "  <thead>\n",
       "    <tr style=\"text-align: right;\">\n",
       "      <th></th>\n",
       "      <th>song_name</th>\n",
       "    </tr>\n",
       "  </thead>\n",
       "  <tbody>\n",
       "    <tr>\n",
       "      <th>0</th>\n",
       "      <td>Yours (Glory and Praise)</td>\n",
       "    </tr>\n",
       "  </tbody>\n",
       "</table>\n",
       "</div>"
      ],
      "text/plain": [
       "                  song_name\n",
       "0  Yours (Glory and Praise)"
      ]
     },
     "execution_count": 74,
     "metadata": {},
     "output_type": "execute_result"
    }
   ],
   "source": [
    "df_tracks.iloc[[0],[1]]"
   ]
  },
  {
   "cell_type": "markdown",
   "metadata": {},
   "source": [
    "## Print popular songs"
   ]
  },
  {
   "cell_type": "code",
   "execution_count": 77,
   "metadata": {},
   "outputs": [
    {
     "name": "stdout",
     "output_type": "stream",
     "text": [
      "Everglow - Single Version; Radio Edit 63\n",
      "Fall 67\n",
      "Everglow - Single Version; Radio Edit 63\n",
      "Everglow - Single Version; Radio Edit 63\n",
      "Fall 67\n"
     ]
    }
   ],
   "source": [
    "for i in df_tracks['popularity']:\n",
    "    try:\n",
    "        if df_tracks['popularity'][i] >= 60:\n",
    "            print(df_tracks['song_name'][i],df_tracks['popularity'][i])\n",
    "    except Exception:\n",
    "        pass\n",
    "        \n"
   ]
  },
  {
   "cell_type": "code",
   "execution_count": 95,
   "metadata": {},
   "outputs": [],
   "source": [
    "def _get_features_df(sp, track_ids):\n",
    "    \"\"\"\"\n",
    "    This is a helper method to get track's features with pagination from track IDs.\n",
    "    It returns a Pandas dataframe\n",
    "    \n",
    "    \"\"\"\n",
    "    \n",
    "    feature_list = []\n",
    "    i=0\n",
    "    while track_ids:\n",
    "        print(\"Call #{} for audio features\",format(i+1))\n",
    "        features_results = sp.audio_features(track_ids[:API_LIMIT])\n",
    "        "
   ]
  },
  {
   "cell_type": "code",
   "execution_count": 96,
   "metadata": {},
   "outputs": [
    {
     "data": {
      "text/plain": [
       "57"
      ]
     },
     "execution_count": 96,
     "metadata": {},
     "output_type": "execute_result"
    }
   ],
   "source": [
    "len(df_tracks[\"artist_name\"].unique())"
   ]
  },
  {
   "cell_type": "code",
   "execution_count": 97,
   "metadata": {},
   "outputs": [],
   "source": [
    "#Save all the track IDs in a list that we will use as an argument in the get_audio_features method we created earlier\n",
    "track_ids = df_tracks[\"id\"].unique().tolist()"
   ]
  },
  {
   "cell_type": "code",
   "execution_count": 98,
   "metadata": {},
   "outputs": [
    {
     "name": "stdout",
     "output_type": "stream",
     "text": [
      "Starting audio feature collection\n",
      "Finishe audio feature collection\n"
     ]
    }
   ],
   "source": [
    "df_features = get_audio_features(sp,track_ids) # Save track IDs in a DF"
   ]
  },
  {
   "cell_type": "code",
   "execution_count": 99,
   "metadata": {},
   "outputs": [
    {
     "data": {
      "text/html": [
       "<div>\n",
       "<style scoped>\n",
       "    .dataframe tbody tr th:only-of-type {\n",
       "        vertical-align: middle;\n",
       "    }\n",
       "\n",
       "    .dataframe tbody tr th {\n",
       "        vertical-align: top;\n",
       "    }\n",
       "\n",
       "    .dataframe thead th {\n",
       "        text-align: right;\n",
       "    }\n",
       "</style>\n",
       "<table border=\"1\" class=\"dataframe\">\n",
       "  <thead>\n",
       "    <tr style=\"text-align: right;\">\n",
       "      <th></th>\n",
       "      <th>acousticness</th>\n",
       "      <th>analysis_url</th>\n",
       "      <th>danceability</th>\n",
       "      <th>duration_ms</th>\n",
       "      <th>energy</th>\n",
       "      <th>id</th>\n",
       "      <th>instrumentalness</th>\n",
       "      <th>key</th>\n",
       "      <th>liveness</th>\n",
       "      <th>loudness</th>\n",
       "      <th>mode</th>\n",
       "      <th>speechiness</th>\n",
       "      <th>tempo</th>\n",
       "      <th>time_signature</th>\n",
       "      <th>track_href</th>\n",
       "      <th>type</th>\n",
       "      <th>uri</th>\n",
       "      <th>valence</th>\n",
       "    </tr>\n",
       "  </thead>\n",
       "  <tbody>\n",
       "    <tr>\n",
       "      <th>0</th>\n",
       "      <td>0.00145</td>\n",
       "      <td>https://api.spotify.com/v1/audio-analysis/60jh...</td>\n",
       "      <td>0.410</td>\n",
       "      <td>450333</td>\n",
       "      <td>0.596</td>\n",
       "      <td>60jh7oiCKKmStpzm8uQPUa</td>\n",
       "      <td>0.000000</td>\n",
       "      <td>2</td>\n",
       "      <td>0.689</td>\n",
       "      <td>-6.899</td>\n",
       "      <td>1</td>\n",
       "      <td>0.0356</td>\n",
       "      <td>139.913</td>\n",
       "      <td>4</td>\n",
       "      <td>https://api.spotify.com/v1/tracks/60jh7oiCKKmS...</td>\n",
       "      <td>audio_features</td>\n",
       "      <td>spotify:track:60jh7oiCKKmStpzm8uQPUa</td>\n",
       "      <td>0.136</td>\n",
       "    </tr>\n",
       "    <tr>\n",
       "      <th>1</th>\n",
       "      <td>0.44900</td>\n",
       "      <td>https://api.spotify.com/v1/audio-analysis/0nah...</td>\n",
       "      <td>0.319</td>\n",
       "      <td>404880</td>\n",
       "      <td>0.304</td>\n",
       "      <td>0naheLc5o40oqBjxi1v4EI</td>\n",
       "      <td>0.000000</td>\n",
       "      <td>2</td>\n",
       "      <td>0.149</td>\n",
       "      <td>-9.388</td>\n",
       "      <td>1</td>\n",
       "      <td>0.0327</td>\n",
       "      <td>147.016</td>\n",
       "      <td>3</td>\n",
       "      <td>https://api.spotify.com/v1/tracks/0naheLc5o40o...</td>\n",
       "      <td>audio_features</td>\n",
       "      <td>spotify:track:0naheLc5o40oqBjxi1v4EI</td>\n",
       "      <td>0.111</td>\n",
       "    </tr>\n",
       "    <tr>\n",
       "      <th>2</th>\n",
       "      <td>0.00214</td>\n",
       "      <td>https://api.spotify.com/v1/audio-analysis/3uWO...</td>\n",
       "      <td>0.427</td>\n",
       "      <td>314480</td>\n",
       "      <td>0.849</td>\n",
       "      <td>3uWOS5d4UBE62UwvzvZNPF</td>\n",
       "      <td>0.000000</td>\n",
       "      <td>0</td>\n",
       "      <td>0.441</td>\n",
       "      <td>-7.014</td>\n",
       "      <td>1</td>\n",
       "      <td>0.0482</td>\n",
       "      <td>150.039</td>\n",
       "      <td>4</td>\n",
       "      <td>https://api.spotify.com/v1/tracks/3uWOS5d4UBE6...</td>\n",
       "      <td>audio_features</td>\n",
       "      <td>spotify:track:3uWOS5d4UBE62UwvzvZNPF</td>\n",
       "      <td>0.273</td>\n",
       "    </tr>\n",
       "    <tr>\n",
       "      <th>3</th>\n",
       "      <td>0.71000</td>\n",
       "      <td>https://api.spotify.com/v1/audio-analysis/6t4m...</td>\n",
       "      <td>0.775</td>\n",
       "      <td>134200</td>\n",
       "      <td>0.389</td>\n",
       "      <td>6t4mncxgMmg2HhXdI4N8lY</td>\n",
       "      <td>0.000363</td>\n",
       "      <td>9</td>\n",
       "      <td>0.134</td>\n",
       "      <td>-8.902</td>\n",
       "      <td>0</td>\n",
       "      <td>0.0685</td>\n",
       "      <td>131.061</td>\n",
       "      <td>3</td>\n",
       "      <td>https://api.spotify.com/v1/tracks/6t4mncxgMmg2...</td>\n",
       "      <td>audio_features</td>\n",
       "      <td>spotify:track:6t4mncxgMmg2HhXdI4N8lY</td>\n",
       "      <td>0.471</td>\n",
       "    </tr>\n",
       "    <tr>\n",
       "      <th>4</th>\n",
       "      <td>0.54600</td>\n",
       "      <td>https://api.spotify.com/v1/audio-analysis/4lD6...</td>\n",
       "      <td>0.353</td>\n",
       "      <td>411733</td>\n",
       "      <td>0.363</td>\n",
       "      <td>4lD6Rr1Z7oNhKh0EtdCNpf</td>\n",
       "      <td>0.000000</td>\n",
       "      <td>11</td>\n",
       "      <td>0.961</td>\n",
       "      <td>-9.107</td>\n",
       "      <td>1</td>\n",
       "      <td>0.0333</td>\n",
       "      <td>160.668</td>\n",
       "      <td>4</td>\n",
       "      <td>https://api.spotify.com/v1/tracks/4lD6Rr1Z7oNh...</td>\n",
       "      <td>audio_features</td>\n",
       "      <td>spotify:track:4lD6Rr1Z7oNhKh0EtdCNpf</td>\n",
       "      <td>0.213</td>\n",
       "    </tr>\n",
       "  </tbody>\n",
       "</table>\n",
       "</div>"
      ],
      "text/plain": [
       "   acousticness                                       analysis_url  \\\n",
       "0       0.00145  https://api.spotify.com/v1/audio-analysis/60jh...   \n",
       "1       0.44900  https://api.spotify.com/v1/audio-analysis/0nah...   \n",
       "2       0.00214  https://api.spotify.com/v1/audio-analysis/3uWO...   \n",
       "3       0.71000  https://api.spotify.com/v1/audio-analysis/6t4m...   \n",
       "4       0.54600  https://api.spotify.com/v1/audio-analysis/4lD6...   \n",
       "\n",
       "   danceability  duration_ms  energy                      id  \\\n",
       "0         0.410       450333   0.596  60jh7oiCKKmStpzm8uQPUa   \n",
       "1         0.319       404880   0.304  0naheLc5o40oqBjxi1v4EI   \n",
       "2         0.427       314480   0.849  3uWOS5d4UBE62UwvzvZNPF   \n",
       "3         0.775       134200   0.389  6t4mncxgMmg2HhXdI4N8lY   \n",
       "4         0.353       411733   0.363  4lD6Rr1Z7oNhKh0EtdCNpf   \n",
       "\n",
       "   instrumentalness  key  liveness  loudness  mode  speechiness    tempo  \\\n",
       "0          0.000000    2     0.689    -6.899     1       0.0356  139.913   \n",
       "1          0.000000    2     0.149    -9.388     1       0.0327  147.016   \n",
       "2          0.000000    0     0.441    -7.014     1       0.0482  150.039   \n",
       "3          0.000363    9     0.134    -8.902     0       0.0685  131.061   \n",
       "4          0.000000   11     0.961    -9.107     1       0.0333  160.668   \n",
       "\n",
       "   time_signature                                         track_href  \\\n",
       "0               4  https://api.spotify.com/v1/tracks/60jh7oiCKKmS...   \n",
       "1               3  https://api.spotify.com/v1/tracks/0naheLc5o40o...   \n",
       "2               4  https://api.spotify.com/v1/tracks/3uWOS5d4UBE6...   \n",
       "3               3  https://api.spotify.com/v1/tracks/6t4mncxgMmg2...   \n",
       "4               4  https://api.spotify.com/v1/tracks/4lD6Rr1Z7oNh...   \n",
       "\n",
       "             type                                   uri  valence  \n",
       "0  audio_features  spotify:track:60jh7oiCKKmStpzm8uQPUa    0.136  \n",
       "1  audio_features  spotify:track:0naheLc5o40oqBjxi1v4EI    0.111  \n",
       "2  audio_features  spotify:track:3uWOS5d4UBE62UwvzvZNPF    0.273  \n",
       "3  audio_features  spotify:track:6t4mncxgMmg2HhXdI4N8lY    0.471  \n",
       "4  audio_features  spotify:track:4lD6Rr1Z7oNhKh0EtdCNpf    0.213  "
      ]
     },
     "execution_count": 99,
     "metadata": {},
     "output_type": "execute_result"
    }
   ],
   "source": [
    "df_features.head()"
   ]
  },
  {
   "cell_type": "code",
   "execution_count": 116,
   "metadata": {},
   "outputs": [
    {
     "data": {
      "text/html": [
       "<div>\n",
       "<style scoped>\n",
       "    .dataframe tbody tr th:only-of-type {\n",
       "        vertical-align: middle;\n",
       "    }\n",
       "\n",
       "    .dataframe tbody tr th {\n",
       "        vertical-align: top;\n",
       "    }\n",
       "\n",
       "    .dataframe thead th {\n",
       "        text-align: right;\n",
       "    }\n",
       "</style>\n",
       "<table border=\"1\" class=\"dataframe\">\n",
       "  <thead>\n",
       "    <tr style=\"text-align: right;\">\n",
       "      <th></th>\n",
       "      <th>acousticness</th>\n",
       "      <th>danceability</th>\n",
       "      <th>duration_ms</th>\n",
       "      <th>energy</th>\n",
       "      <th>instrumentalness</th>\n",
       "      <th>key</th>\n",
       "      <th>liveness</th>\n",
       "      <th>loudness</th>\n",
       "      <th>mode</th>\n",
       "      <th>speechiness</th>\n",
       "      <th>tempo</th>\n",
       "      <th>time_signature</th>\n",
       "      <th>valence</th>\n",
       "    </tr>\n",
       "  </thead>\n",
       "  <tbody>\n",
       "    <tr>\n",
       "      <th>count</th>\n",
       "      <td>79.000000</td>\n",
       "      <td>79.000000</td>\n",
       "      <td>79.000000</td>\n",
       "      <td>79.000000</td>\n",
       "      <td>79.000000</td>\n",
       "      <td>79.000000</td>\n",
       "      <td>79.000000</td>\n",
       "      <td>79.000000</td>\n",
       "      <td>79.000000</td>\n",
       "      <td>79.000000</td>\n",
       "      <td>79.000000</td>\n",
       "      <td>79.000000</td>\n",
       "      <td>79.000000</td>\n",
       "    </tr>\n",
       "    <tr>\n",
       "      <th>mean</th>\n",
       "      <td>0.412430</td>\n",
       "      <td>0.499139</td>\n",
       "      <td>263864.582278</td>\n",
       "      <td>0.502044</td>\n",
       "      <td>0.036321</td>\n",
       "      <td>4.962025</td>\n",
       "      <td>0.228786</td>\n",
       "      <td>-8.298177</td>\n",
       "      <td>0.822785</td>\n",
       "      <td>0.064262</td>\n",
       "      <td>116.065089</td>\n",
       "      <td>3.810127</td>\n",
       "      <td>0.380210</td>\n",
       "    </tr>\n",
       "    <tr>\n",
       "      <th>std</th>\n",
       "      <td>0.318938</td>\n",
       "      <td>0.204012</td>\n",
       "      <td>79924.541749</td>\n",
       "      <td>0.215744</td>\n",
       "      <td>0.155926</td>\n",
       "      <td>3.767074</td>\n",
       "      <td>0.235578</td>\n",
       "      <td>3.464859</td>\n",
       "      <td>0.384291</td>\n",
       "      <td>0.068424</td>\n",
       "      <td>28.020945</td>\n",
       "      <td>0.621742</td>\n",
       "      <td>0.270709</td>\n",
       "    </tr>\n",
       "    <tr>\n",
       "      <th>min</th>\n",
       "      <td>0.000891</td>\n",
       "      <td>0.164000</td>\n",
       "      <td>114783.000000</td>\n",
       "      <td>0.030700</td>\n",
       "      <td>0.000000</td>\n",
       "      <td>0.000000</td>\n",
       "      <td>0.020200</td>\n",
       "      <td>-18.676000</td>\n",
       "      <td>0.000000</td>\n",
       "      <td>0.027400</td>\n",
       "      <td>68.329000</td>\n",
       "      <td>1.000000</td>\n",
       "      <td>0.040100</td>\n",
       "    </tr>\n",
       "    <tr>\n",
       "      <th>25%</th>\n",
       "      <td>0.085300</td>\n",
       "      <td>0.351500</td>\n",
       "      <td>210240.000000</td>\n",
       "      <td>0.325000</td>\n",
       "      <td>0.000000</td>\n",
       "      <td>1.000000</td>\n",
       "      <td>0.096650</td>\n",
       "      <td>-9.974500</td>\n",
       "      <td>1.000000</td>\n",
       "      <td>0.033400</td>\n",
       "      <td>97.254000</td>\n",
       "      <td>4.000000</td>\n",
       "      <td>0.156000</td>\n",
       "    </tr>\n",
       "    <tr>\n",
       "      <th>50%</th>\n",
       "      <td>0.396000</td>\n",
       "      <td>0.464000</td>\n",
       "      <td>249600.000000</td>\n",
       "      <td>0.501000</td>\n",
       "      <td>0.000000</td>\n",
       "      <td>5.000000</td>\n",
       "      <td>0.123000</td>\n",
       "      <td>-7.725000</td>\n",
       "      <td>1.000000</td>\n",
       "      <td>0.039000</td>\n",
       "      <td>114.488000</td>\n",
       "      <td>4.000000</td>\n",
       "      <td>0.312000</td>\n",
       "    </tr>\n",
       "    <tr>\n",
       "      <th>75%</th>\n",
       "      <td>0.715500</td>\n",
       "      <td>0.653500</td>\n",
       "      <td>297895.500000</td>\n",
       "      <td>0.658000</td>\n",
       "      <td>0.000173</td>\n",
       "      <td>9.000000</td>\n",
       "      <td>0.266500</td>\n",
       "      <td>-6.216000</td>\n",
       "      <td>1.000000</td>\n",
       "      <td>0.053700</td>\n",
       "      <td>136.631500</td>\n",
       "      <td>4.000000</td>\n",
       "      <td>0.586500</td>\n",
       "    </tr>\n",
       "    <tr>\n",
       "      <th>max</th>\n",
       "      <td>0.985000</td>\n",
       "      <td>0.928000</td>\n",
       "      <td>492827.000000</td>\n",
       "      <td>0.947000</td>\n",
       "      <td>0.907000</td>\n",
       "      <td>11.000000</td>\n",
       "      <td>0.971000</td>\n",
       "      <td>-2.310000</td>\n",
       "      <td>1.000000</td>\n",
       "      <td>0.438000</td>\n",
       "      <td>208.081000</td>\n",
       "      <td>5.000000</td>\n",
       "      <td>0.961000</td>\n",
       "    </tr>\n",
       "  </tbody>\n",
       "</table>\n",
       "</div>"
      ],
      "text/plain": [
       "       acousticness  danceability    duration_ms     energy  instrumentalness  \\\n",
       "count     79.000000     79.000000      79.000000  79.000000         79.000000   \n",
       "mean       0.412430      0.499139  263864.582278   0.502044          0.036321   \n",
       "std        0.318938      0.204012   79924.541749   0.215744          0.155926   \n",
       "min        0.000891      0.164000  114783.000000   0.030700          0.000000   \n",
       "25%        0.085300      0.351500  210240.000000   0.325000          0.000000   \n",
       "50%        0.396000      0.464000  249600.000000   0.501000          0.000000   \n",
       "75%        0.715500      0.653500  297895.500000   0.658000          0.000173   \n",
       "max        0.985000      0.928000  492827.000000   0.947000          0.907000   \n",
       "\n",
       "             key   liveness   loudness       mode  speechiness       tempo  \\\n",
       "count  79.000000  79.000000  79.000000  79.000000    79.000000   79.000000   \n",
       "mean    4.962025   0.228786  -8.298177   0.822785     0.064262  116.065089   \n",
       "std     3.767074   0.235578   3.464859   0.384291     0.068424   28.020945   \n",
       "min     0.000000   0.020200 -18.676000   0.000000     0.027400   68.329000   \n",
       "25%     1.000000   0.096650  -9.974500   1.000000     0.033400   97.254000   \n",
       "50%     5.000000   0.123000  -7.725000   1.000000     0.039000  114.488000   \n",
       "75%     9.000000   0.266500  -6.216000   1.000000     0.053700  136.631500   \n",
       "max    11.000000   0.971000  -2.310000   1.000000     0.438000  208.081000   \n",
       "\n",
       "       time_signature    valence  \n",
       "count       79.000000  79.000000  \n",
       "mean         3.810127   0.380210  \n",
       "std          0.621742   0.270709  \n",
       "min          1.000000   0.040100  \n",
       "25%          4.000000   0.156000  \n",
       "50%          4.000000   0.312000  \n",
       "75%          4.000000   0.586500  \n",
       "max          5.000000   0.961000  "
      ]
     },
     "execution_count": 116,
     "metadata": {},
     "output_type": "execute_result"
    }
   ],
   "source": [
    "df_features.describe()"
   ]
  },
  {
   "cell_type": "markdown",
   "metadata": {},
   "source": [
    "## Normalize the \"tempo\" column"
   ]
  },
  {
   "cell_type": "code",
   "execution_count": 100,
   "metadata": {},
   "outputs": [
    {
     "data": {
      "text/html": [
       "<div>\n",
       "<style scoped>\n",
       "    .dataframe tbody tr th:only-of-type {\n",
       "        vertical-align: middle;\n",
       "    }\n",
       "\n",
       "    .dataframe tbody tr th {\n",
       "        vertical-align: top;\n",
       "    }\n",
       "\n",
       "    .dataframe thead th {\n",
       "        text-align: right;\n",
       "    }\n",
       "</style>\n",
       "<table border=\"1\" class=\"dataframe\">\n",
       "  <thead>\n",
       "    <tr style=\"text-align: right;\">\n",
       "      <th></th>\n",
       "      <th>acousticness</th>\n",
       "      <th>analysis_url</th>\n",
       "      <th>danceability</th>\n",
       "      <th>duration_ms</th>\n",
       "      <th>energy</th>\n",
       "      <th>id</th>\n",
       "      <th>instrumentalness</th>\n",
       "      <th>key</th>\n",
       "      <th>liveness</th>\n",
       "      <th>loudness</th>\n",
       "      <th>mode</th>\n",
       "      <th>speechiness</th>\n",
       "      <th>tempo</th>\n",
       "      <th>time_signature</th>\n",
       "      <th>track_href</th>\n",
       "      <th>type</th>\n",
       "      <th>uri</th>\n",
       "      <th>valence</th>\n",
       "      <th>norm_tempo</th>\n",
       "    </tr>\n",
       "  </thead>\n",
       "  <tbody>\n",
       "    <tr>\n",
       "      <th>0</th>\n",
       "      <td>0.00145</td>\n",
       "      <td>https://api.spotify.com/v1/audio-analysis/60jh...</td>\n",
       "      <td>0.410</td>\n",
       "      <td>450333</td>\n",
       "      <td>0.596</td>\n",
       "      <td>60jh7oiCKKmStpzm8uQPUa</td>\n",
       "      <td>0.000000</td>\n",
       "      <td>2</td>\n",
       "      <td>0.689</td>\n",
       "      <td>-6.899</td>\n",
       "      <td>1</td>\n",
       "      <td>0.0356</td>\n",
       "      <td>139.913</td>\n",
       "      <td>4</td>\n",
       "      <td>https://api.spotify.com/v1/tracks/60jh7oiCKKmS...</td>\n",
       "      <td>audio_features</td>\n",
       "      <td>spotify:track:60jh7oiCKKmStpzm8uQPUa</td>\n",
       "      <td>0.136</td>\n",
       "      <td>0.658597</td>\n",
       "    </tr>\n",
       "    <tr>\n",
       "      <th>1</th>\n",
       "      <td>0.44900</td>\n",
       "      <td>https://api.spotify.com/v1/audio-analysis/0nah...</td>\n",
       "      <td>0.319</td>\n",
       "      <td>404880</td>\n",
       "      <td>0.304</td>\n",
       "      <td>0naheLc5o40oqBjxi1v4EI</td>\n",
       "      <td>0.000000</td>\n",
       "      <td>2</td>\n",
       "      <td>0.149</td>\n",
       "      <td>-9.388</td>\n",
       "      <td>1</td>\n",
       "      <td>0.0327</td>\n",
       "      <td>147.016</td>\n",
       "      <td>3</td>\n",
       "      <td>https://api.spotify.com/v1/tracks/0naheLc5o40o...</td>\n",
       "      <td>audio_features</td>\n",
       "      <td>spotify:track:0naheLc5o40oqBjxi1v4EI</td>\n",
       "      <td>0.111</td>\n",
       "      <td>0.698955</td>\n",
       "    </tr>\n",
       "    <tr>\n",
       "      <th>2</th>\n",
       "      <td>0.00214</td>\n",
       "      <td>https://api.spotify.com/v1/audio-analysis/3uWO...</td>\n",
       "      <td>0.427</td>\n",
       "      <td>314480</td>\n",
       "      <td>0.849</td>\n",
       "      <td>3uWOS5d4UBE62UwvzvZNPF</td>\n",
       "      <td>0.000000</td>\n",
       "      <td>0</td>\n",
       "      <td>0.441</td>\n",
       "      <td>-7.014</td>\n",
       "      <td>1</td>\n",
       "      <td>0.0482</td>\n",
       "      <td>150.039</td>\n",
       "      <td>4</td>\n",
       "      <td>https://api.spotify.com/v1/tracks/3uWOS5d4UBE6...</td>\n",
       "      <td>audio_features</td>\n",
       "      <td>spotify:track:3uWOS5d4UBE62UwvzvZNPF</td>\n",
       "      <td>0.273</td>\n",
       "      <td>0.716131</td>\n",
       "    </tr>\n",
       "    <tr>\n",
       "      <th>3</th>\n",
       "      <td>0.71000</td>\n",
       "      <td>https://api.spotify.com/v1/audio-analysis/6t4m...</td>\n",
       "      <td>0.775</td>\n",
       "      <td>134200</td>\n",
       "      <td>0.389</td>\n",
       "      <td>6t4mncxgMmg2HhXdI4N8lY</td>\n",
       "      <td>0.000363</td>\n",
       "      <td>9</td>\n",
       "      <td>0.134</td>\n",
       "      <td>-8.902</td>\n",
       "      <td>0</td>\n",
       "      <td>0.0685</td>\n",
       "      <td>131.061</td>\n",
       "      <td>3</td>\n",
       "      <td>https://api.spotify.com/v1/tracks/6t4mncxgMmg2...</td>\n",
       "      <td>audio_features</td>\n",
       "      <td>spotify:track:6t4mncxgMmg2HhXdI4N8lY</td>\n",
       "      <td>0.471</td>\n",
       "      <td>0.608301</td>\n",
       "    </tr>\n",
       "    <tr>\n",
       "      <th>4</th>\n",
       "      <td>0.54600</td>\n",
       "      <td>https://api.spotify.com/v1/audio-analysis/4lD6...</td>\n",
       "      <td>0.353</td>\n",
       "      <td>411733</td>\n",
       "      <td>0.363</td>\n",
       "      <td>4lD6Rr1Z7oNhKh0EtdCNpf</td>\n",
       "      <td>0.000000</td>\n",
       "      <td>11</td>\n",
       "      <td>0.961</td>\n",
       "      <td>-9.107</td>\n",
       "      <td>1</td>\n",
       "      <td>0.0333</td>\n",
       "      <td>160.668</td>\n",
       "      <td>4</td>\n",
       "      <td>https://api.spotify.com/v1/tracks/4lD6Rr1Z7oNh...</td>\n",
       "      <td>audio_features</td>\n",
       "      <td>spotify:track:4lD6Rr1Z7oNhKh0EtdCNpf</td>\n",
       "      <td>0.213</td>\n",
       "      <td>0.776523</td>\n",
       "    </tr>\n",
       "  </tbody>\n",
       "</table>\n",
       "</div>"
      ],
      "text/plain": [
       "   acousticness                                       analysis_url  \\\n",
       "0       0.00145  https://api.spotify.com/v1/audio-analysis/60jh...   \n",
       "1       0.44900  https://api.spotify.com/v1/audio-analysis/0nah...   \n",
       "2       0.00214  https://api.spotify.com/v1/audio-analysis/3uWO...   \n",
       "3       0.71000  https://api.spotify.com/v1/audio-analysis/6t4m...   \n",
       "4       0.54600  https://api.spotify.com/v1/audio-analysis/4lD6...   \n",
       "\n",
       "   danceability  duration_ms  energy                      id  \\\n",
       "0         0.410       450333   0.596  60jh7oiCKKmStpzm8uQPUa   \n",
       "1         0.319       404880   0.304  0naheLc5o40oqBjxi1v4EI   \n",
       "2         0.427       314480   0.849  3uWOS5d4UBE62UwvzvZNPF   \n",
       "3         0.775       134200   0.389  6t4mncxgMmg2HhXdI4N8lY   \n",
       "4         0.353       411733   0.363  4lD6Rr1Z7oNhKh0EtdCNpf   \n",
       "\n",
       "   instrumentalness  key  liveness  loudness  mode  speechiness    tempo  \\\n",
       "0          0.000000    2     0.689    -6.899     1       0.0356  139.913   \n",
       "1          0.000000    2     0.149    -9.388     1       0.0327  147.016   \n",
       "2          0.000000    0     0.441    -7.014     1       0.0482  150.039   \n",
       "3          0.000363    9     0.134    -8.902     0       0.0685  131.061   \n",
       "4          0.000000   11     0.961    -9.107     1       0.0333  160.668   \n",
       "\n",
       "   time_signature                                         track_href  \\\n",
       "0               4  https://api.spotify.com/v1/tracks/60jh7oiCKKmS...   \n",
       "1               3  https://api.spotify.com/v1/tracks/0naheLc5o40o...   \n",
       "2               4  https://api.spotify.com/v1/tracks/3uWOS5d4UBE6...   \n",
       "3               3  https://api.spotify.com/v1/tracks/6t4mncxgMmg2...   \n",
       "4               4  https://api.spotify.com/v1/tracks/4lD6Rr1Z7oNh...   \n",
       "\n",
       "             type                                   uri  valence  norm_tempo  \n",
       "0  audio_features  spotify:track:60jh7oiCKKmStpzm8uQPUa    0.136    0.658597  \n",
       "1  audio_features  spotify:track:0naheLc5o40oqBjxi1v4EI    0.111    0.698955  \n",
       "2  audio_features  spotify:track:3uWOS5d4UBE62UwvzvZNPF    0.273    0.716131  \n",
       "3  audio_features  spotify:track:6t4mncxgMmg2HhXdI4N8lY    0.471    0.608301  \n",
       "4  audio_features  spotify:track:4lD6Rr1Z7oNhKh0EtdCNpf    0.213    0.776523  "
      ]
     },
     "execution_count": 100,
     "metadata": {},
     "output_type": "execute_result"
    }
   ],
   "source": [
    "#Normalize the tempo so it's on the same scale as the other features\n",
    "df_features['norm_tempo']= (df_features['tempo']-24)/176\n",
    "df_features.head()"
   ]
  },
  {
   "cell_type": "code",
   "execution_count": 101,
   "metadata": {},
   "outputs": [],
   "source": [
    "#Add popularity to audio_features\n",
    "df_features['popularity'] = df_tracks['norm_popularity']"
   ]
  },
  {
   "cell_type": "code",
   "execution_count": 105,
   "metadata": {},
   "outputs": [
    {
     "data": {
      "text/html": [
       "<div>\n",
       "<style scoped>\n",
       "    .dataframe tbody tr th:only-of-type {\n",
       "        vertical-align: middle;\n",
       "    }\n",
       "\n",
       "    .dataframe tbody tr th {\n",
       "        vertical-align: top;\n",
       "    }\n",
       "\n",
       "    .dataframe thead th {\n",
       "        text-align: right;\n",
       "    }\n",
       "</style>\n",
       "<table border=\"1\" class=\"dataframe\">\n",
       "  <thead>\n",
       "    <tr style=\"text-align: right;\">\n",
       "      <th></th>\n",
       "      <th>acousticness</th>\n",
       "      <th>danceability</th>\n",
       "      <th>duration_ms</th>\n",
       "      <th>energy</th>\n",
       "      <th>id</th>\n",
       "      <th>instrumentalness</th>\n",
       "      <th>key</th>\n",
       "      <th>liveness</th>\n",
       "      <th>loudness</th>\n",
       "      <th>mode</th>\n",
       "      <th>speechiness</th>\n",
       "      <th>tempo</th>\n",
       "      <th>time_signature</th>\n",
       "      <th>valence</th>\n",
       "      <th>norm_tempo</th>\n",
       "      <th>popularity</th>\n",
       "    </tr>\n",
       "  </thead>\n",
       "  <tbody>\n",
       "    <tr>\n",
       "      <th>0</th>\n",
       "      <td>0.00145</td>\n",
       "      <td>0.410</td>\n",
       "      <td>450333</td>\n",
       "      <td>0.596</td>\n",
       "      <td>60jh7oiCKKmStpzm8uQPUa</td>\n",
       "      <td>0.000000</td>\n",
       "      <td>2</td>\n",
       "      <td>0.689</td>\n",
       "      <td>-6.899</td>\n",
       "      <td>1</td>\n",
       "      <td>0.0356</td>\n",
       "      <td>139.913</td>\n",
       "      <td>4</td>\n",
       "      <td>0.136</td>\n",
       "      <td>0.658597</td>\n",
       "      <td>0.53</td>\n",
       "    </tr>\n",
       "    <tr>\n",
       "      <th>1</th>\n",
       "      <td>0.44900</td>\n",
       "      <td>0.319</td>\n",
       "      <td>404880</td>\n",
       "      <td>0.304</td>\n",
       "      <td>0naheLc5o40oqBjxi1v4EI</td>\n",
       "      <td>0.000000</td>\n",
       "      <td>2</td>\n",
       "      <td>0.149</td>\n",
       "      <td>-9.388</td>\n",
       "      <td>1</td>\n",
       "      <td>0.0327</td>\n",
       "      <td>147.016</td>\n",
       "      <td>3</td>\n",
       "      <td>0.111</td>\n",
       "      <td>0.698955</td>\n",
       "      <td>0.47</td>\n",
       "    </tr>\n",
       "    <tr>\n",
       "      <th>2</th>\n",
       "      <td>0.00214</td>\n",
       "      <td>0.427</td>\n",
       "      <td>314480</td>\n",
       "      <td>0.849</td>\n",
       "      <td>3uWOS5d4UBE62UwvzvZNPF</td>\n",
       "      <td>0.000000</td>\n",
       "      <td>0</td>\n",
       "      <td>0.441</td>\n",
       "      <td>-7.014</td>\n",
       "      <td>1</td>\n",
       "      <td>0.0482</td>\n",
       "      <td>150.039</td>\n",
       "      <td>4</td>\n",
       "      <td>0.273</td>\n",
       "      <td>0.716131</td>\n",
       "      <td>0.46</td>\n",
       "    </tr>\n",
       "    <tr>\n",
       "      <th>3</th>\n",
       "      <td>0.71000</td>\n",
       "      <td>0.775</td>\n",
       "      <td>134200</td>\n",
       "      <td>0.389</td>\n",
       "      <td>6t4mncxgMmg2HhXdI4N8lY</td>\n",
       "      <td>0.000363</td>\n",
       "      <td>9</td>\n",
       "      <td>0.134</td>\n",
       "      <td>-8.902</td>\n",
       "      <td>0</td>\n",
       "      <td>0.0685</td>\n",
       "      <td>131.061</td>\n",
       "      <td>3</td>\n",
       "      <td>0.471</td>\n",
       "      <td>0.608301</td>\n",
       "      <td>0.11</td>\n",
       "    </tr>\n",
       "    <tr>\n",
       "      <th>4</th>\n",
       "      <td>0.54600</td>\n",
       "      <td>0.353</td>\n",
       "      <td>411733</td>\n",
       "      <td>0.363</td>\n",
       "      <td>4lD6Rr1Z7oNhKh0EtdCNpf</td>\n",
       "      <td>0.000000</td>\n",
       "      <td>11</td>\n",
       "      <td>0.961</td>\n",
       "      <td>-9.107</td>\n",
       "      <td>1</td>\n",
       "      <td>0.0333</td>\n",
       "      <td>160.668</td>\n",
       "      <td>4</td>\n",
       "      <td>0.213</td>\n",
       "      <td>0.776523</td>\n",
       "      <td>0.52</td>\n",
       "    </tr>\n",
       "  </tbody>\n",
       "</table>\n",
       "</div>"
      ],
      "text/plain": [
       "   acousticness  danceability  duration_ms  energy                      id  \\\n",
       "0       0.00145         0.410       450333   0.596  60jh7oiCKKmStpzm8uQPUa   \n",
       "1       0.44900         0.319       404880   0.304  0naheLc5o40oqBjxi1v4EI   \n",
       "2       0.00214         0.427       314480   0.849  3uWOS5d4UBE62UwvzvZNPF   \n",
       "3       0.71000         0.775       134200   0.389  6t4mncxgMmg2HhXdI4N8lY   \n",
       "4       0.54600         0.353       411733   0.363  4lD6Rr1Z7oNhKh0EtdCNpf   \n",
       "\n",
       "   instrumentalness  key  liveness  loudness  mode  speechiness    tempo  \\\n",
       "0          0.000000    2     0.689    -6.899     1       0.0356  139.913   \n",
       "1          0.000000    2     0.149    -9.388     1       0.0327  147.016   \n",
       "2          0.000000    0     0.441    -7.014     1       0.0482  150.039   \n",
       "3          0.000363    9     0.134    -8.902     0       0.0685  131.061   \n",
       "4          0.000000   11     0.961    -9.107     1       0.0333  160.668   \n",
       "\n",
       "   time_signature  valence  norm_tempo  popularity  \n",
       "0               4    0.136    0.658597        0.53  \n",
       "1               3    0.111    0.698955        0.47  \n",
       "2               4    0.273    0.716131        0.46  \n",
       "3               3    0.471    0.608301        0.11  \n",
       "4               4    0.213    0.776523        0.52  "
      ]
     },
     "execution_count": 105,
     "metadata": {},
     "output_type": "execute_result"
    }
   ],
   "source": [
    "df_features.head()"
   ]
  },
  {
   "cell_type": "markdown",
   "metadata": {},
   "source": [
    "## Drop columns we aren't using"
   ]
  },
  {
   "cell_type": "code",
   "execution_count": 104,
   "metadata": {
    "collapsed": true
   },
   "outputs": [
    {
     "ename": "KeyError",
     "evalue": "\"['analysis_url' 'track_href' 'type' 'uri'] not found in axis\"",
     "output_type": "error",
     "traceback": [
      "\u001b[1;31m---------------------------------------------------------------------------\u001b[0m",
      "\u001b[1;31mKeyError\u001b[0m                                  Traceback (most recent call last)",
      "\u001b[1;32m<ipython-input-104-7bdff1b8bebe>\u001b[0m in \u001b[0;36m<module>\u001b[1;34m\u001b[0m\n\u001b[1;32m----> 1\u001b[1;33m \u001b[0mdf_features\u001b[0m \u001b[1;33m=\u001b[0m \u001b[0mdf_features\u001b[0m\u001b[1;33m.\u001b[0m\u001b[0mdrop\u001b[0m\u001b[1;33m(\u001b[0m\u001b[0mcolumns\u001b[0m\u001b[1;33m=\u001b[0m\u001b[1;33m[\u001b[0m\u001b[1;34m\"analysis_url\"\u001b[0m\u001b[1;33m,\u001b[0m\u001b[1;34m\"track_href\"\u001b[0m\u001b[1;33m,\u001b[0m\u001b[1;34m\"type\"\u001b[0m\u001b[1;33m,\u001b[0m\u001b[1;34m\"uri\"\u001b[0m\u001b[1;33m]\u001b[0m\u001b[1;33m)\u001b[0m\u001b[1;33m\u001b[0m\u001b[1;33m\u001b[0m\u001b[0m\n\u001b[0m",
      "\u001b[1;32m~\\Anaconda2\\lib\\site-packages\\pandas\\core\\frame.py\u001b[0m in \u001b[0;36mdrop\u001b[1;34m(self, labels, axis, index, columns, level, inplace, errors)\u001b[0m\n\u001b[0;32m   3938\u001b[0m                                            \u001b[0mindex\u001b[0m\u001b[1;33m=\u001b[0m\u001b[0mindex\u001b[0m\u001b[1;33m,\u001b[0m \u001b[0mcolumns\u001b[0m\u001b[1;33m=\u001b[0m\u001b[0mcolumns\u001b[0m\u001b[1;33m,\u001b[0m\u001b[1;33m\u001b[0m\u001b[1;33m\u001b[0m\u001b[0m\n\u001b[0;32m   3939\u001b[0m                                            \u001b[0mlevel\u001b[0m\u001b[1;33m=\u001b[0m\u001b[0mlevel\u001b[0m\u001b[1;33m,\u001b[0m \u001b[0minplace\u001b[0m\u001b[1;33m=\u001b[0m\u001b[0minplace\u001b[0m\u001b[1;33m,\u001b[0m\u001b[1;33m\u001b[0m\u001b[1;33m\u001b[0m\u001b[0m\n\u001b[1;32m-> 3940\u001b[1;33m                                            errors=errors)\n\u001b[0m\u001b[0;32m   3941\u001b[0m \u001b[1;33m\u001b[0m\u001b[0m\n\u001b[0;32m   3942\u001b[0m     @rewrite_axis_style_signature('mapper', [('copy', True),\n",
      "\u001b[1;32m~\\Anaconda2\\lib\\site-packages\\pandas\\core\\generic.py\u001b[0m in \u001b[0;36mdrop\u001b[1;34m(self, labels, axis, index, columns, level, inplace, errors)\u001b[0m\n\u001b[0;32m   3778\u001b[0m         \u001b[1;32mfor\u001b[0m \u001b[0maxis\u001b[0m\u001b[1;33m,\u001b[0m \u001b[0mlabels\u001b[0m \u001b[1;32min\u001b[0m \u001b[0maxes\u001b[0m\u001b[1;33m.\u001b[0m\u001b[0mitems\u001b[0m\u001b[1;33m(\u001b[0m\u001b[1;33m)\u001b[0m\u001b[1;33m:\u001b[0m\u001b[1;33m\u001b[0m\u001b[1;33m\u001b[0m\u001b[0m\n\u001b[0;32m   3779\u001b[0m             \u001b[1;32mif\u001b[0m \u001b[0mlabels\u001b[0m \u001b[1;32mis\u001b[0m \u001b[1;32mnot\u001b[0m \u001b[1;32mNone\u001b[0m\u001b[1;33m:\u001b[0m\u001b[1;33m\u001b[0m\u001b[1;33m\u001b[0m\u001b[0m\n\u001b[1;32m-> 3780\u001b[1;33m                 \u001b[0mobj\u001b[0m \u001b[1;33m=\u001b[0m \u001b[0mobj\u001b[0m\u001b[1;33m.\u001b[0m\u001b[0m_drop_axis\u001b[0m\u001b[1;33m(\u001b[0m\u001b[0mlabels\u001b[0m\u001b[1;33m,\u001b[0m \u001b[0maxis\u001b[0m\u001b[1;33m,\u001b[0m \u001b[0mlevel\u001b[0m\u001b[1;33m=\u001b[0m\u001b[0mlevel\u001b[0m\u001b[1;33m,\u001b[0m \u001b[0merrors\u001b[0m\u001b[1;33m=\u001b[0m\u001b[0merrors\u001b[0m\u001b[1;33m)\u001b[0m\u001b[1;33m\u001b[0m\u001b[1;33m\u001b[0m\u001b[0m\n\u001b[0m\u001b[0;32m   3781\u001b[0m \u001b[1;33m\u001b[0m\u001b[0m\n\u001b[0;32m   3782\u001b[0m         \u001b[1;32mif\u001b[0m \u001b[0minplace\u001b[0m\u001b[1;33m:\u001b[0m\u001b[1;33m\u001b[0m\u001b[1;33m\u001b[0m\u001b[0m\n",
      "\u001b[1;32m~\\Anaconda2\\lib\\site-packages\\pandas\\core\\generic.py\u001b[0m in \u001b[0;36m_drop_axis\u001b[1;34m(self, labels, axis, level, errors)\u001b[0m\n\u001b[0;32m   3810\u001b[0m                 \u001b[0mnew_axis\u001b[0m \u001b[1;33m=\u001b[0m \u001b[0maxis\u001b[0m\u001b[1;33m.\u001b[0m\u001b[0mdrop\u001b[0m\u001b[1;33m(\u001b[0m\u001b[0mlabels\u001b[0m\u001b[1;33m,\u001b[0m \u001b[0mlevel\u001b[0m\u001b[1;33m=\u001b[0m\u001b[0mlevel\u001b[0m\u001b[1;33m,\u001b[0m \u001b[0merrors\u001b[0m\u001b[1;33m=\u001b[0m\u001b[0merrors\u001b[0m\u001b[1;33m)\u001b[0m\u001b[1;33m\u001b[0m\u001b[1;33m\u001b[0m\u001b[0m\n\u001b[0;32m   3811\u001b[0m             \u001b[1;32melse\u001b[0m\u001b[1;33m:\u001b[0m\u001b[1;33m\u001b[0m\u001b[1;33m\u001b[0m\u001b[0m\n\u001b[1;32m-> 3812\u001b[1;33m                 \u001b[0mnew_axis\u001b[0m \u001b[1;33m=\u001b[0m \u001b[0maxis\u001b[0m\u001b[1;33m.\u001b[0m\u001b[0mdrop\u001b[0m\u001b[1;33m(\u001b[0m\u001b[0mlabels\u001b[0m\u001b[1;33m,\u001b[0m \u001b[0merrors\u001b[0m\u001b[1;33m=\u001b[0m\u001b[0merrors\u001b[0m\u001b[1;33m)\u001b[0m\u001b[1;33m\u001b[0m\u001b[1;33m\u001b[0m\u001b[0m\n\u001b[0m\u001b[0;32m   3813\u001b[0m             \u001b[0mresult\u001b[0m \u001b[1;33m=\u001b[0m \u001b[0mself\u001b[0m\u001b[1;33m.\u001b[0m\u001b[0mreindex\u001b[0m\u001b[1;33m(\u001b[0m\u001b[1;33m**\u001b[0m\u001b[1;33m{\u001b[0m\u001b[0maxis_name\u001b[0m\u001b[1;33m:\u001b[0m \u001b[0mnew_axis\u001b[0m\u001b[1;33m}\u001b[0m\u001b[1;33m)\u001b[0m\u001b[1;33m\u001b[0m\u001b[1;33m\u001b[0m\u001b[0m\n\u001b[0;32m   3814\u001b[0m \u001b[1;33m\u001b[0m\u001b[0m\n",
      "\u001b[1;32m~\\Anaconda2\\lib\\site-packages\\pandas\\core\\indexes\\base.py\u001b[0m in \u001b[0;36mdrop\u001b[1;34m(self, labels, errors)\u001b[0m\n\u001b[0;32m   4963\u001b[0m             \u001b[1;32mif\u001b[0m \u001b[0merrors\u001b[0m \u001b[1;33m!=\u001b[0m \u001b[1;34m'ignore'\u001b[0m\u001b[1;33m:\u001b[0m\u001b[1;33m\u001b[0m\u001b[1;33m\u001b[0m\u001b[0m\n\u001b[0;32m   4964\u001b[0m                 raise KeyError(\n\u001b[1;32m-> 4965\u001b[1;33m                     '{} not found in axis'.format(labels[mask]))\n\u001b[0m\u001b[0;32m   4966\u001b[0m             \u001b[0mindexer\u001b[0m \u001b[1;33m=\u001b[0m \u001b[0mindexer\u001b[0m\u001b[1;33m[\u001b[0m\u001b[1;33m~\u001b[0m\u001b[0mmask\u001b[0m\u001b[1;33m]\u001b[0m\u001b[1;33m\u001b[0m\u001b[1;33m\u001b[0m\u001b[0m\n\u001b[0;32m   4967\u001b[0m         \u001b[1;32mreturn\u001b[0m \u001b[0mself\u001b[0m\u001b[1;33m.\u001b[0m\u001b[0mdelete\u001b[0m\u001b[1;33m(\u001b[0m\u001b[0mindexer\u001b[0m\u001b[1;33m)\u001b[0m\u001b[1;33m\u001b[0m\u001b[1;33m\u001b[0m\u001b[0m\n",
      "\u001b[1;31mKeyError\u001b[0m: \"['analysis_url' 'track_href' 'type' 'uri'] not found in axis\""
     ]
    }
   ],
   "source": [
    "df_features = df_features.drop(columns=[\"analysis_url\",\"track_href\",\"type\",\"uri\"])"
   ]
  },
  {
   "cell_type": "code",
   "execution_count": 108,
   "metadata": {},
   "outputs": [
    {
     "data": {
      "text/html": [
       "<div>\n",
       "<style scoped>\n",
       "    .dataframe tbody tr th:only-of-type {\n",
       "        vertical-align: middle;\n",
       "    }\n",
       "\n",
       "    .dataframe tbody tr th {\n",
       "        vertical-align: top;\n",
       "    }\n",
       "\n",
       "    .dataframe thead th {\n",
       "        text-align: right;\n",
       "    }\n",
       "</style>\n",
       "<table border=\"1\" class=\"dataframe\">\n",
       "  <thead>\n",
       "    <tr style=\"text-align: right;\">\n",
       "      <th></th>\n",
       "      <th>acousticness</th>\n",
       "      <th>danceability</th>\n",
       "      <th>duration_ms</th>\n",
       "      <th>energy</th>\n",
       "      <th>id</th>\n",
       "      <th>instrumentalness</th>\n",
       "      <th>key</th>\n",
       "      <th>liveness</th>\n",
       "      <th>loudness</th>\n",
       "      <th>mode</th>\n",
       "      <th>speechiness</th>\n",
       "      <th>tempo</th>\n",
       "      <th>time_signature</th>\n",
       "      <th>valence</th>\n",
       "      <th>norm_tempo</th>\n",
       "      <th>popularity</th>\n",
       "    </tr>\n",
       "  </thead>\n",
       "  <tbody>\n",
       "    <tr>\n",
       "      <th>0</th>\n",
       "      <td>0.00145</td>\n",
       "      <td>0.410</td>\n",
       "      <td>450333</td>\n",
       "      <td>0.596</td>\n",
       "      <td>60jh7oiCKKmStpzm8uQPUa</td>\n",
       "      <td>0.000000</td>\n",
       "      <td>2</td>\n",
       "      <td>0.6890</td>\n",
       "      <td>-6.899</td>\n",
       "      <td>1</td>\n",
       "      <td>0.0356</td>\n",
       "      <td>139.913</td>\n",
       "      <td>4</td>\n",
       "      <td>0.1360</td>\n",
       "      <td>0.658597</td>\n",
       "      <td>0.53</td>\n",
       "    </tr>\n",
       "    <tr>\n",
       "      <th>1</th>\n",
       "      <td>0.44900</td>\n",
       "      <td>0.319</td>\n",
       "      <td>404880</td>\n",
       "      <td>0.304</td>\n",
       "      <td>0naheLc5o40oqBjxi1v4EI</td>\n",
       "      <td>0.000000</td>\n",
       "      <td>2</td>\n",
       "      <td>0.1490</td>\n",
       "      <td>-9.388</td>\n",
       "      <td>1</td>\n",
       "      <td>0.0327</td>\n",
       "      <td>147.016</td>\n",
       "      <td>3</td>\n",
       "      <td>0.1110</td>\n",
       "      <td>0.698955</td>\n",
       "      <td>0.47</td>\n",
       "    </tr>\n",
       "    <tr>\n",
       "      <th>2</th>\n",
       "      <td>0.00214</td>\n",
       "      <td>0.427</td>\n",
       "      <td>314480</td>\n",
       "      <td>0.849</td>\n",
       "      <td>3uWOS5d4UBE62UwvzvZNPF</td>\n",
       "      <td>0.000000</td>\n",
       "      <td>0</td>\n",
       "      <td>0.4410</td>\n",
       "      <td>-7.014</td>\n",
       "      <td>1</td>\n",
       "      <td>0.0482</td>\n",
       "      <td>150.039</td>\n",
       "      <td>4</td>\n",
       "      <td>0.2730</td>\n",
       "      <td>0.716131</td>\n",
       "      <td>0.46</td>\n",
       "    </tr>\n",
       "    <tr>\n",
       "      <th>3</th>\n",
       "      <td>0.71000</td>\n",
       "      <td>0.775</td>\n",
       "      <td>134200</td>\n",
       "      <td>0.389</td>\n",
       "      <td>6t4mncxgMmg2HhXdI4N8lY</td>\n",
       "      <td>0.000363</td>\n",
       "      <td>9</td>\n",
       "      <td>0.1340</td>\n",
       "      <td>-8.902</td>\n",
       "      <td>0</td>\n",
       "      <td>0.0685</td>\n",
       "      <td>131.061</td>\n",
       "      <td>3</td>\n",
       "      <td>0.4710</td>\n",
       "      <td>0.608301</td>\n",
       "      <td>0.11</td>\n",
       "    </tr>\n",
       "    <tr>\n",
       "      <th>4</th>\n",
       "      <td>0.54600</td>\n",
       "      <td>0.353</td>\n",
       "      <td>411733</td>\n",
       "      <td>0.363</td>\n",
       "      <td>4lD6Rr1Z7oNhKh0EtdCNpf</td>\n",
       "      <td>0.000000</td>\n",
       "      <td>11</td>\n",
       "      <td>0.9610</td>\n",
       "      <td>-9.107</td>\n",
       "      <td>1</td>\n",
       "      <td>0.0333</td>\n",
       "      <td>160.668</td>\n",
       "      <td>4</td>\n",
       "      <td>0.2130</td>\n",
       "      <td>0.776523</td>\n",
       "      <td>0.52</td>\n",
       "    </tr>\n",
       "    <tr>\n",
       "      <th>5</th>\n",
       "      <td>0.72100</td>\n",
       "      <td>0.757</td>\n",
       "      <td>176107</td>\n",
       "      <td>0.293</td>\n",
       "      <td>7ElBZMkV9zo3pZa4byNu2c</td>\n",
       "      <td>0.770000</td>\n",
       "      <td>5</td>\n",
       "      <td>0.0202</td>\n",
       "      <td>-13.253</td>\n",
       "      <td>0</td>\n",
       "      <td>0.0529</td>\n",
       "      <td>107.166</td>\n",
       "      <td>4</td>\n",
       "      <td>0.8570</td>\n",
       "      <td>0.472534</td>\n",
       "      <td>0.36</td>\n",
       "    </tr>\n",
       "    <tr>\n",
       "      <th>6</th>\n",
       "      <td>0.03840</td>\n",
       "      <td>0.720</td>\n",
       "      <td>175427</td>\n",
       "      <td>0.791</td>\n",
       "      <td>2Dz8KeCYs9awlwUJStJlmh</td>\n",
       "      <td>0.000000</td>\n",
       "      <td>1</td>\n",
       "      <td>0.1570</td>\n",
       "      <td>-4.689</td>\n",
       "      <td>1</td>\n",
       "      <td>0.1240</td>\n",
       "      <td>102.071</td>\n",
       "      <td>4</td>\n",
       "      <td>0.7560</td>\n",
       "      <td>0.443585</td>\n",
       "      <td>0.49</td>\n",
       "    </tr>\n",
       "    <tr>\n",
       "      <th>7</th>\n",
       "      <td>0.39600</td>\n",
       "      <td>0.522</td>\n",
       "      <td>210027</td>\n",
       "      <td>0.608</td>\n",
       "      <td>3H0lUzkLfMS8GNbR2UDJBN</td>\n",
       "      <td>0.000311</td>\n",
       "      <td>4</td>\n",
       "      <td>0.1120</td>\n",
       "      <td>-11.583</td>\n",
       "      <td>1</td>\n",
       "      <td>0.0374</td>\n",
       "      <td>79.975</td>\n",
       "      <td>4</td>\n",
       "      <td>0.5090</td>\n",
       "      <td>0.318040</td>\n",
       "      <td>0.27</td>\n",
       "    </tr>\n",
       "    <tr>\n",
       "      <th>8</th>\n",
       "      <td>0.26200</td>\n",
       "      <td>0.280</td>\n",
       "      <td>316400</td>\n",
       "      <td>0.288</td>\n",
       "      <td>2ix8Hwk9ZeNAmGE66vyPze</td>\n",
       "      <td>0.000024</td>\n",
       "      <td>10</td>\n",
       "      <td>0.0724</td>\n",
       "      <td>-10.296</td>\n",
       "      <td>1</td>\n",
       "      <td>0.0299</td>\n",
       "      <td>81.607</td>\n",
       "      <td>5</td>\n",
       "      <td>0.1420</td>\n",
       "      <td>0.327313</td>\n",
       "      <td>0.42</td>\n",
       "    </tr>\n",
       "    <tr>\n",
       "      <th>9</th>\n",
       "      <td>0.06150</td>\n",
       "      <td>0.289</td>\n",
       "      <td>492827</td>\n",
       "      <td>0.531</td>\n",
       "      <td>0m9tzAbMTRXMlzByJf82z3</td>\n",
       "      <td>0.000000</td>\n",
       "      <td>2</td>\n",
       "      <td>0.5260</td>\n",
       "      <td>-7.597</td>\n",
       "      <td>1</td>\n",
       "      <td>0.0340</td>\n",
       "      <td>74.549</td>\n",
       "      <td>4</td>\n",
       "      <td>0.0943</td>\n",
       "      <td>0.287210</td>\n",
       "      <td>0.01</td>\n",
       "    </tr>\n",
       "  </tbody>\n",
       "</table>\n",
       "</div>"
      ],
      "text/plain": [
       "   acousticness  danceability  duration_ms  energy                      id  \\\n",
       "0       0.00145         0.410       450333   0.596  60jh7oiCKKmStpzm8uQPUa   \n",
       "1       0.44900         0.319       404880   0.304  0naheLc5o40oqBjxi1v4EI   \n",
       "2       0.00214         0.427       314480   0.849  3uWOS5d4UBE62UwvzvZNPF   \n",
       "3       0.71000         0.775       134200   0.389  6t4mncxgMmg2HhXdI4N8lY   \n",
       "4       0.54600         0.353       411733   0.363  4lD6Rr1Z7oNhKh0EtdCNpf   \n",
       "5       0.72100         0.757       176107   0.293  7ElBZMkV9zo3pZa4byNu2c   \n",
       "6       0.03840         0.720       175427   0.791  2Dz8KeCYs9awlwUJStJlmh   \n",
       "7       0.39600         0.522       210027   0.608  3H0lUzkLfMS8GNbR2UDJBN   \n",
       "8       0.26200         0.280       316400   0.288  2ix8Hwk9ZeNAmGE66vyPze   \n",
       "9       0.06150         0.289       492827   0.531  0m9tzAbMTRXMlzByJf82z3   \n",
       "\n",
       "   instrumentalness  key  liveness  loudness  mode  speechiness    tempo  \\\n",
       "0          0.000000    2    0.6890    -6.899     1       0.0356  139.913   \n",
       "1          0.000000    2    0.1490    -9.388     1       0.0327  147.016   \n",
       "2          0.000000    0    0.4410    -7.014     1       0.0482  150.039   \n",
       "3          0.000363    9    0.1340    -8.902     0       0.0685  131.061   \n",
       "4          0.000000   11    0.9610    -9.107     1       0.0333  160.668   \n",
       "5          0.770000    5    0.0202   -13.253     0       0.0529  107.166   \n",
       "6          0.000000    1    0.1570    -4.689     1       0.1240  102.071   \n",
       "7          0.000311    4    0.1120   -11.583     1       0.0374   79.975   \n",
       "8          0.000024   10    0.0724   -10.296     1       0.0299   81.607   \n",
       "9          0.000000    2    0.5260    -7.597     1       0.0340   74.549   \n",
       "\n",
       "   time_signature  valence  norm_tempo  popularity  \n",
       "0               4   0.1360    0.658597        0.53  \n",
       "1               3   0.1110    0.698955        0.47  \n",
       "2               4   0.2730    0.716131        0.46  \n",
       "3               3   0.4710    0.608301        0.11  \n",
       "4               4   0.2130    0.776523        0.52  \n",
       "5               4   0.8570    0.472534        0.36  \n",
       "6               4   0.7560    0.443585        0.49  \n",
       "7               4   0.5090    0.318040        0.27  \n",
       "8               5   0.1420    0.327313        0.42  \n",
       "9               4   0.0943    0.287210        0.01  "
      ]
     },
     "execution_count": 108,
     "metadata": {},
     "output_type": "execute_result"
    }
   ],
   "source": [
    "df_features.head(10)"
   ]
  },
  {
   "cell_type": "code",
   "execution_count": 109,
   "metadata": {},
   "outputs": [
    {
     "data": {
      "text/plain": [
       "<matplotlib.axes._subplots.AxesSubplot at 0x20411e275f8>"
      ]
     },
     "execution_count": 109,
     "metadata": {},
     "output_type": "execute_result"
    },
    {
     "data": {
      "image/png": "[encoded data removed]",
      "text/plain": [
       "<Figure size 720x720 with 2 Axes>"
      ]
     },
     "metadata": {
      "needs_background": "light"
     },
     "output_type": "display_data"
    }
   ],
   "source": [
    "fig, ax =plt.subplots(figsize=(10,10))  \n",
    "sns.heatmap(df_features.corr(), annot=True, ax=ax)"
   ]
  },
  {
   "cell_type": "markdown",
   "metadata": {},
   "source": [
    "# Data exploratory analysis on my favourite Spotify playlist with Seaborn "
   ]
  },
  {
   "cell_type": "code",
   "execution_count": 110,
   "metadata": {
    "collapsed": true
   },
   "outputs": [
    {
     "data": {
      "image/png": "[encoded data removed]",
      "text/plain": [
       "<Figure size 1080x288 with 3 Axes>"
      ]
     },
     "metadata": {},
     "output_type": "display_data"
    },
    {
     "data": {
      "image/png": "[encoded data removed]",
      "text/plain": [
       "<Figure size 1080x288 with 3 Axes>"
      ]
     },
     "metadata": {},
     "output_type": "display_data"
    },
    {
     "data": {
      "image/png": "[encoded data removed]",
      "text/plain": [
       "<Figure size 1080x288 with 3 Axes>"
      ]
     },
     "metadata": {},
     "output_type": "display_data"
    }
   ],
   "source": [
    "sns.set() # Used to set the default seaborn theme, scaling and colour pallete \n",
    "f, axes = plt.subplots(1, 3, sharey=True, figsize=(15, 4))\n",
    "\n",
    "#sns.boxplot(x=\"day\", y=\"tip\", data=tips, ax=axes[0])\n",
    "\n",
    "#sns.scatterplot(x=\"total_bill\", y=\"tip\", hue=\"day\", data=tips, ax=axes[1])\n",
    "\n",
    "sns.boxplot(df_features['valence'], ax=axes[0])\n",
    "sns.boxplot(df_features['danceability'], ax=axes[1])\n",
    "sns.boxplot(df_features['loudness'], ax=axes[2])\n",
    "\n",
    "f, axes = plt.subplots(1, 3, sharey=True, figsize=(15, 4))\n",
    "sns.boxplot(df_features['acousticness'], ax=axes[0])\n",
    "sns.boxplot(df_features['energy'], ax=axes[1])\n",
    "sns.boxplot(df_features['liveness'], ax=axes[2])\n",
    "\n",
    "f, axes = plt.subplots(1, 3, sharey=True, figsize=(15, 4))\n",
    "sns.boxplot(df_features['speechiness'], ax=axes[0])\n",
    "sns.boxplot(df_features['instrumentalness'], ax=axes[1])\n",
    "sns.boxplot(df_features['norm_tempo'], ax=axes[2])\n",
    "plt.show()\n"
   ]
  },
  {
   "cell_type": "code",
   "execution_count": 115,
   "metadata": {},
   "outputs": [
    {
     "data": {
      "image/png": "[encoded data removed]",
      "text/plain": [
       "<Figure size 1080x288 with 3 Axes>"
      ]
     },
     "metadata": {},
     "output_type": "display_data"
    },
    {
     "data": {
      "image/png": "[encoded data removed]",
      "text/plain": [
       "<Figure size 1080x288 with 3 Axes>"
      ]
     },
     "metadata": {},
     "output_type": "display_data"
    },
    {
     "data": {
      "image/png": "[encoded data removed]",
      "text/plain": [
       "<Figure size 1080x288 with 3 Axes>"
      ]
     },
     "metadata": {},
     "output_type": "display_data"
    }
   ],
   "source": [
    "f, axes = plt.subplots(1, 3, sharey=True, figsize=(15, 4))\n",
    "\n",
    "#sns.distplot(df_features['energy'], ax=axes[0])\n",
    "#sns.distplot(df_features['norm_tempo'], ax=axes[2]) \n",
    "\n",
    "sns.distplot(df_features['valence'], ax=axes[0])\n",
    "sns.distplot(df_features['danceability'], ax=axes[1])\n",
    "sns.distplot(df_features['loudness'], ax=axes[2])\n",
    "\n",
    "f, axes = plt.subplots(1, 3, sharey=True, figsize=(15, 4))\n",
    "sns.distplot(df_features['acousticness'], ax=axes[0])\n",
    "sns.distplot(df_features['energy'], ax=axes[1])\n",
    "sns.distplot(df_features['liveness'], ax=axes[2])\n",
    "\n",
    "f, axes = plt.subplots(1, 3, sharey=True, figsize=(15, 4))\n",
    "sns.distplot(df_features['speechiness'], ax=axes[0])\n",
    "sns.distplot(df_features['instrumentalness'], ax=axes[1])\n",
    "sns.distplot(df_features['popularity'], ax=axes[2]) \n",
    "plt.show()"
   ]
  },
  {
   "cell_type": "code",
   "execution_count": 139,
   "metadata": {},
   "outputs": [
    {
     "data": {
      "text/html": [
       "<div>\n",
       "<style scoped>\n",
       "    .dataframe tbody tr th:only-of-type {\n",
       "        vertical-align: middle;\n",
       "    }\n",
       "\n",
       "    .dataframe tbody tr th {\n",
       "        vertical-align: top;\n",
       "    }\n",
       "\n",
       "    .dataframe thead th {\n",
       "        text-align: right;\n",
       "    }\n",
       "</style>\n",
       "<table border=\"1\" class=\"dataframe\">\n",
       "  <thead>\n",
       "    <tr style=\"text-align: right;\">\n",
       "      <th></th>\n",
       "      <th>acousticness</th>\n",
       "      <th>danceability</th>\n",
       "      <th>duration_ms</th>\n",
       "      <th>energy</th>\n",
       "      <th>instrumentalness</th>\n",
       "      <th>key</th>\n",
       "      <th>liveness</th>\n",
       "      <th>loudness</th>\n",
       "      <th>mode</th>\n",
       "      <th>speechiness</th>\n",
       "      <th>tempo</th>\n",
       "      <th>time_signature</th>\n",
       "      <th>valence</th>\n",
       "      <th>norm_tempo</th>\n",
       "      <th>popularity</th>\n",
       "    </tr>\n",
       "  </thead>\n",
       "  <tbody>\n",
       "    <tr>\n",
       "      <th>count</th>\n",
       "      <td>79.000000</td>\n",
       "      <td>79.000000</td>\n",
       "      <td>79.000000</td>\n",
       "      <td>79.000000</td>\n",
       "      <td>79.000000</td>\n",
       "      <td>79.000000</td>\n",
       "      <td>79.000000</td>\n",
       "      <td>79.000000</td>\n",
       "      <td>79.000000</td>\n",
       "      <td>79.000000</td>\n",
       "      <td>79.000000</td>\n",
       "      <td>79.000000</td>\n",
       "      <td>79.000000</td>\n",
       "      <td>79.000000</td>\n",
       "      <td>79.000000</td>\n",
       "    </tr>\n",
       "    <tr>\n",
       "      <th>mean</th>\n",
       "      <td>0.412430</td>\n",
       "      <td>0.499139</td>\n",
       "      <td>263864.582278</td>\n",
       "      <td>0.502044</td>\n",
       "      <td>0.036321</td>\n",
       "      <td>4.962025</td>\n",
       "      <td>0.228786</td>\n",
       "      <td>-8.298177</td>\n",
       "      <td>0.822785</td>\n",
       "      <td>0.064262</td>\n",
       "      <td>116.065089</td>\n",
       "      <td>3.810127</td>\n",
       "      <td>0.380210</td>\n",
       "      <td>0.523097</td>\n",
       "      <td>0.316962</td>\n",
       "    </tr>\n",
       "    <tr>\n",
       "      <th>std</th>\n",
       "      <td>0.318938</td>\n",
       "      <td>0.204012</td>\n",
       "      <td>79924.541749</td>\n",
       "      <td>0.215744</td>\n",
       "      <td>0.155926</td>\n",
       "      <td>3.767074</td>\n",
       "      <td>0.235578</td>\n",
       "      <td>3.464859</td>\n",
       "      <td>0.384291</td>\n",
       "      <td>0.068424</td>\n",
       "      <td>28.020945</td>\n",
       "      <td>0.621742</td>\n",
       "      <td>0.270709</td>\n",
       "      <td>0.159210</td>\n",
       "      <td>0.212231</td>\n",
       "    </tr>\n",
       "    <tr>\n",
       "      <th>min</th>\n",
       "      <td>0.000891</td>\n",
       "      <td>0.164000</td>\n",
       "      <td>114783.000000</td>\n",
       "      <td>0.030700</td>\n",
       "      <td>0.000000</td>\n",
       "      <td>0.000000</td>\n",
       "      <td>0.020200</td>\n",
       "      <td>-18.676000</td>\n",
       "      <td>0.000000</td>\n",
       "      <td>0.027400</td>\n",
       "      <td>68.329000</td>\n",
       "      <td>1.000000</td>\n",
       "      <td>0.040100</td>\n",
       "      <td>0.251869</td>\n",
       "      <td>0.000000</td>\n",
       "    </tr>\n",
       "    <tr>\n",
       "      <th>25%</th>\n",
       "      <td>0.085300</td>\n",
       "      <td>0.351500</td>\n",
       "      <td>210240.000000</td>\n",
       "      <td>0.325000</td>\n",
       "      <td>0.000000</td>\n",
       "      <td>1.000000</td>\n",
       "      <td>0.096650</td>\n",
       "      <td>-9.974500</td>\n",
       "      <td>1.000000</td>\n",
       "      <td>0.033400</td>\n",
       "      <td>97.254000</td>\n",
       "      <td>4.000000</td>\n",
       "      <td>0.156000</td>\n",
       "      <td>0.416216</td>\n",
       "      <td>0.115000</td>\n",
       "    </tr>\n",
       "    <tr>\n",
       "      <th>50%</th>\n",
       "      <td>0.396000</td>\n",
       "      <td>0.464000</td>\n",
       "      <td>249600.000000</td>\n",
       "      <td>0.501000</td>\n",
       "      <td>0.000000</td>\n",
       "      <td>5.000000</td>\n",
       "      <td>0.123000</td>\n",
       "      <td>-7.725000</td>\n",
       "      <td>1.000000</td>\n",
       "      <td>0.039000</td>\n",
       "      <td>114.488000</td>\n",
       "      <td>4.000000</td>\n",
       "      <td>0.312000</td>\n",
       "      <td>0.514136</td>\n",
       "      <td>0.340000</td>\n",
       "    </tr>\n",
       "    <tr>\n",
       "      <th>75%</th>\n",
       "      <td>0.715500</td>\n",
       "      <td>0.653500</td>\n",
       "      <td>297895.500000</td>\n",
       "      <td>0.658000</td>\n",
       "      <td>0.000173</td>\n",
       "      <td>9.000000</td>\n",
       "      <td>0.266500</td>\n",
       "      <td>-6.216000</td>\n",
       "      <td>1.000000</td>\n",
       "      <td>0.053700</td>\n",
       "      <td>136.631500</td>\n",
       "      <td>4.000000</td>\n",
       "      <td>0.586500</td>\n",
       "      <td>0.639952</td>\n",
       "      <td>0.480000</td>\n",
       "    </tr>\n",
       "    <tr>\n",
       "      <th>max</th>\n",
       "      <td>0.985000</td>\n",
       "      <td>0.928000</td>\n",
       "      <td>492827.000000</td>\n",
       "      <td>0.947000</td>\n",
       "      <td>0.907000</td>\n",
       "      <td>11.000000</td>\n",
       "      <td>0.971000</td>\n",
       "      <td>-2.310000</td>\n",
       "      <td>1.000000</td>\n",
       "      <td>0.438000</td>\n",
       "      <td>208.081000</td>\n",
       "      <td>5.000000</td>\n",
       "      <td>0.961000</td>\n",
       "      <td>1.045915</td>\n",
       "      <td>0.830000</td>\n",
       "    </tr>\n",
       "  </tbody>\n",
       "</table>\n",
       "</div>"
      ],
      "text/plain": [
       "       acousticness  danceability    duration_ms     energy  instrumentalness  \\\n",
       "count     79.000000     79.000000      79.000000  79.000000         79.000000   \n",
       "mean       0.412430      0.499139  263864.582278   0.502044          0.036321   \n",
       "std        0.318938      0.204012   79924.541749   0.215744          0.155926   \n",
       "min        0.000891      0.164000  114783.000000   0.030700          0.000000   \n",
       "25%        0.085300      0.351500  210240.000000   0.325000          0.000000   \n",
       "50%        0.396000      0.464000  249600.000000   0.501000          0.000000   \n",
       "75%        0.715500      0.653500  297895.500000   0.658000          0.000173   \n",
       "max        0.985000      0.928000  492827.000000   0.947000          0.907000   \n",
       "\n",
       "             key   liveness   loudness       mode  speechiness       tempo  \\\n",
       "count  79.000000  79.000000  79.000000  79.000000    79.000000   79.000000   \n",
       "mean    4.962025   0.228786  -8.298177   0.822785     0.064262  116.065089   \n",
       "std     3.767074   0.235578   3.464859   0.384291     0.068424   28.020945   \n",
       "min     0.000000   0.020200 -18.676000   0.000000     0.027400   68.329000   \n",
       "25%     1.000000   0.096650  -9.974500   1.000000     0.033400   97.254000   \n",
       "50%     5.000000   0.123000  -7.725000   1.000000     0.039000  114.488000   \n",
       "75%     9.000000   0.266500  -6.216000   1.000000     0.053700  136.631500   \n",
       "max    11.000000   0.971000  -2.310000   1.000000     0.438000  208.081000   \n",
       "\n",
       "       time_signature    valence  norm_tempo  popularity  \n",
       "count       79.000000  79.000000   79.000000   79.000000  \n",
       "mean         3.810127   0.380210    0.523097    0.316962  \n",
       "std          0.621742   0.270709    0.159210    0.212231  \n",
       "min          1.000000   0.040100    0.251869    0.000000  \n",
       "25%          4.000000   0.156000    0.416216    0.115000  \n",
       "50%          4.000000   0.312000    0.514136    0.340000  \n",
       "75%          4.000000   0.586500    0.639952    0.480000  \n",
       "max          5.000000   0.961000    1.045915    0.830000  "
      ]
     },
     "execution_count": 139,
     "metadata": {},
     "output_type": "execute_result"
    }
   ],
   "source": [
    "df_features.describe()"
   ]
  },
  {
   "cell_type": "markdown",
   "metadata": {},
   "source": [
    "# Import top Spotify songs from 2018"
   ]
  },
  {
   "cell_type": "code",
   "execution_count": 186,
   "metadata": {},
   "outputs": [],
   "source": [
    "top2018_df = pd.read_csv('top2018.csv')"
   ]
  },
  {
   "cell_type": "code",
   "execution_count": 187,
   "metadata": {},
   "outputs": [
    {
     "data": {
      "text/html": [
       "<div>\n",
       "<style scoped>\n",
       "    .dataframe tbody tr th:only-of-type {\n",
       "        vertical-align: middle;\n",
       "    }\n",
       "\n",
       "    .dataframe tbody tr th {\n",
       "        vertical-align: top;\n",
       "    }\n",
       "\n",
       "    .dataframe thead th {\n",
       "        text-align: right;\n",
       "    }\n",
       "</style>\n",
       "<table border=\"1\" class=\"dataframe\">\n",
       "  <thead>\n",
       "    <tr style=\"text-align: right;\">\n",
       "      <th></th>\n",
       "      <th>id</th>\n",
       "      <th>name</th>\n",
       "      <th>artists</th>\n",
       "      <th>danceability</th>\n",
       "      <th>energy</th>\n",
       "      <th>key</th>\n",
       "      <th>loudness</th>\n",
       "      <th>mode</th>\n",
       "      <th>speechiness</th>\n",
       "      <th>acousticness</th>\n",
       "      <th>instrumentalness</th>\n",
       "      <th>liveness</th>\n",
       "      <th>valence</th>\n",
       "      <th>tempo</th>\n",
       "      <th>duration_ms</th>\n",
       "      <th>time_signature</th>\n",
       "    </tr>\n",
       "  </thead>\n",
       "  <tbody>\n",
       "    <tr>\n",
       "      <th>0</th>\n",
       "      <td>6DCZcSspjsKoFjzjrWoCd</td>\n",
       "      <td>God's Plan</td>\n",
       "      <td>Drake</td>\n",
       "      <td>0.754</td>\n",
       "      <td>0.449</td>\n",
       "      <td>7.0</td>\n",
       "      <td>-9.211</td>\n",
       "      <td>1.0</td>\n",
       "      <td>0.1090</td>\n",
       "      <td>0.0332</td>\n",
       "      <td>0.000083</td>\n",
       "      <td>0.552</td>\n",
       "      <td>0.357</td>\n",
       "      <td>77.169</td>\n",
       "      <td>198973.0</td>\n",
       "      <td>4.0</td>\n",
       "    </tr>\n",
       "    <tr>\n",
       "      <th>1</th>\n",
       "      <td>3ee8Jmje8o58CHK66QrVC</td>\n",
       "      <td>SAD!</td>\n",
       "      <td>XXXTENTACION</td>\n",
       "      <td>0.740</td>\n",
       "      <td>0.613</td>\n",
       "      <td>8.0</td>\n",
       "      <td>-4.880</td>\n",
       "      <td>1.0</td>\n",
       "      <td>0.1450</td>\n",
       "      <td>0.2580</td>\n",
       "      <td>0.003720</td>\n",
       "      <td>0.123</td>\n",
       "      <td>0.473</td>\n",
       "      <td>75.023</td>\n",
       "      <td>166606.0</td>\n",
       "      <td>4.0</td>\n",
       "    </tr>\n",
       "    <tr>\n",
       "      <th>2</th>\n",
       "      <td>0e7ipj03S05BNilyu5bRz</td>\n",
       "      <td>rockstar (feat. 21 Savage)</td>\n",
       "      <td>Post Malone</td>\n",
       "      <td>0.587</td>\n",
       "      <td>0.535</td>\n",
       "      <td>5.0</td>\n",
       "      <td>-6.090</td>\n",
       "      <td>0.0</td>\n",
       "      <td>0.0898</td>\n",
       "      <td>0.1170</td>\n",
       "      <td>0.000066</td>\n",
       "      <td>0.131</td>\n",
       "      <td>0.140</td>\n",
       "      <td>159.847</td>\n",
       "      <td>218147.0</td>\n",
       "      <td>4.0</td>\n",
       "    </tr>\n",
       "    <tr>\n",
       "      <th>3</th>\n",
       "      <td>3swc6WTsr7rl9DqQKQA55</td>\n",
       "      <td>Psycho (feat. Ty Dolla $ign)</td>\n",
       "      <td>Post Malone</td>\n",
       "      <td>0.739</td>\n",
       "      <td>0.559</td>\n",
       "      <td>8.0</td>\n",
       "      <td>-8.011</td>\n",
       "      <td>1.0</td>\n",
       "      <td>0.1170</td>\n",
       "      <td>0.5800</td>\n",
       "      <td>0.000000</td>\n",
       "      <td>0.112</td>\n",
       "      <td>0.439</td>\n",
       "      <td>140.124</td>\n",
       "      <td>221440.0</td>\n",
       "      <td>4.0</td>\n",
       "    </tr>\n",
       "    <tr>\n",
       "      <th>4</th>\n",
       "      <td>2G7V7zsVDxg1yRsu7Ew9R</td>\n",
       "      <td>In My Feelings</td>\n",
       "      <td>Drake</td>\n",
       "      <td>0.835</td>\n",
       "      <td>0.626</td>\n",
       "      <td>1.0</td>\n",
       "      <td>-5.833</td>\n",
       "      <td>1.0</td>\n",
       "      <td>0.1250</td>\n",
       "      <td>0.0589</td>\n",
       "      <td>0.000060</td>\n",
       "      <td>0.396</td>\n",
       "      <td>0.350</td>\n",
       "      <td>91.030</td>\n",
       "      <td>217925.0</td>\n",
       "      <td>4.0</td>\n",
       "    </tr>\n",
       "  </tbody>\n",
       "</table>\n",
       "</div>"
      ],
      "text/plain": [
       "                      id                          name       artists  \\\n",
       "0  6DCZcSspjsKoFjzjrWoCd                    God's Plan         Drake   \n",
       "1  3ee8Jmje8o58CHK66QrVC                          SAD!  XXXTENTACION   \n",
       "2  0e7ipj03S05BNilyu5bRz    rockstar (feat. 21 Savage)   Post Malone   \n",
       "3  3swc6WTsr7rl9DqQKQA55  Psycho (feat. Ty Dolla $ign)   Post Malone   \n",
       "4  2G7V7zsVDxg1yRsu7Ew9R                In My Feelings         Drake   \n",
       "\n",
       "   danceability  energy  key  loudness  mode  speechiness  acousticness  \\\n",
       "0         0.754   0.449  7.0    -9.211   1.0       0.1090        0.0332   \n",
       "1         0.740   0.613  8.0    -4.880   1.0       0.1450        0.2580   \n",
       "2         0.587   0.535  5.0    -6.090   0.0       0.0898        0.1170   \n",
       "3         0.739   0.559  8.0    -8.011   1.0       0.1170        0.5800   \n",
       "4         0.835   0.626  1.0    -5.833   1.0       0.1250        0.0589   \n",
       "\n",
       "   instrumentalness  liveness  valence    tempo  duration_ms  time_signature  \n",
       "0          0.000083     0.552    0.357   77.169     198973.0             4.0  \n",
       "1          0.003720     0.123    0.473   75.023     166606.0             4.0  \n",
       "2          0.000066     0.131    0.140  159.847     218147.0             4.0  \n",
       "3          0.000000     0.112    0.439  140.124     221440.0             4.0  \n",
       "4          0.000060     0.396    0.350   91.030     217925.0             4.0  "
      ]
     },
     "execution_count": 187,
     "metadata": {},
     "output_type": "execute_result"
    }
   ],
   "source": [
    "top2018_df.head()"
   ]
  },
  {
   "cell_type": "code",
   "execution_count": 188,
   "metadata": {},
   "outputs": [],
   "source": [
    "top2018_df = top2018_df.drop('duration_ms', axis=1)"
   ]
  },
  {
   "cell_type": "code",
   "execution_count": 189,
   "metadata": {},
   "outputs": [],
   "source": [
    "top2018_df = top2018_df.drop(columns=\"time_signature\")"
   ]
  },
  {
   "cell_type": "code",
   "execution_count": 190,
   "metadata": {},
   "outputs": [
    {
     "data": {
      "text/html": [
       "<div>\n",
       "<style scoped>\n",
       "    .dataframe tbody tr th:only-of-type {\n",
       "        vertical-align: middle;\n",
       "    }\n",
       "\n",
       "    .dataframe tbody tr th {\n",
       "        vertical-align: top;\n",
       "    }\n",
       "\n",
       "    .dataframe thead th {\n",
       "        text-align: right;\n",
       "    }\n",
       "</style>\n",
       "<table border=\"1\" class=\"dataframe\">\n",
       "  <thead>\n",
       "    <tr style=\"text-align: right;\">\n",
       "      <th></th>\n",
       "      <th>id</th>\n",
       "      <th>name</th>\n",
       "      <th>artists</th>\n",
       "      <th>danceability</th>\n",
       "      <th>energy</th>\n",
       "      <th>key</th>\n",
       "      <th>loudness</th>\n",
       "      <th>mode</th>\n",
       "      <th>speechiness</th>\n",
       "      <th>acousticness</th>\n",
       "      <th>instrumentalness</th>\n",
       "      <th>liveness</th>\n",
       "      <th>valence</th>\n",
       "      <th>tempo</th>\n",
       "    </tr>\n",
       "  </thead>\n",
       "  <tbody>\n",
       "    <tr>\n",
       "      <th>0</th>\n",
       "      <td>6DCZcSspjsKoFjzjrWoCd</td>\n",
       "      <td>God's Plan</td>\n",
       "      <td>Drake</td>\n",
       "      <td>0.754</td>\n",
       "      <td>0.449</td>\n",
       "      <td>7.0</td>\n",
       "      <td>-9.211</td>\n",
       "      <td>1.0</td>\n",
       "      <td>0.1090</td>\n",
       "      <td>0.0332</td>\n",
       "      <td>0.000083</td>\n",
       "      <td>0.552</td>\n",
       "      <td>0.357</td>\n",
       "      <td>77.169</td>\n",
       "    </tr>\n",
       "    <tr>\n",
       "      <th>1</th>\n",
       "      <td>3ee8Jmje8o58CHK66QrVC</td>\n",
       "      <td>SAD!</td>\n",
       "      <td>XXXTENTACION</td>\n",
       "      <td>0.740</td>\n",
       "      <td>0.613</td>\n",
       "      <td>8.0</td>\n",
       "      <td>-4.880</td>\n",
       "      <td>1.0</td>\n",
       "      <td>0.1450</td>\n",
       "      <td>0.2580</td>\n",
       "      <td>0.003720</td>\n",
       "      <td>0.123</td>\n",
       "      <td>0.473</td>\n",
       "      <td>75.023</td>\n",
       "    </tr>\n",
       "    <tr>\n",
       "      <th>2</th>\n",
       "      <td>0e7ipj03S05BNilyu5bRz</td>\n",
       "      <td>rockstar (feat. 21 Savage)</td>\n",
       "      <td>Post Malone</td>\n",
       "      <td>0.587</td>\n",
       "      <td>0.535</td>\n",
       "      <td>5.0</td>\n",
       "      <td>-6.090</td>\n",
       "      <td>0.0</td>\n",
       "      <td>0.0898</td>\n",
       "      <td>0.1170</td>\n",
       "      <td>0.000066</td>\n",
       "      <td>0.131</td>\n",
       "      <td>0.140</td>\n",
       "      <td>159.847</td>\n",
       "    </tr>\n",
       "    <tr>\n",
       "      <th>3</th>\n",
       "      <td>3swc6WTsr7rl9DqQKQA55</td>\n",
       "      <td>Psycho (feat. Ty Dolla $ign)</td>\n",
       "      <td>Post Malone</td>\n",
       "      <td>0.739</td>\n",
       "      <td>0.559</td>\n",
       "      <td>8.0</td>\n",
       "      <td>-8.011</td>\n",
       "      <td>1.0</td>\n",
       "      <td>0.1170</td>\n",
       "      <td>0.5800</td>\n",
       "      <td>0.000000</td>\n",
       "      <td>0.112</td>\n",
       "      <td>0.439</td>\n",
       "      <td>140.124</td>\n",
       "    </tr>\n",
       "    <tr>\n",
       "      <th>4</th>\n",
       "      <td>2G7V7zsVDxg1yRsu7Ew9R</td>\n",
       "      <td>In My Feelings</td>\n",
       "      <td>Drake</td>\n",
       "      <td>0.835</td>\n",
       "      <td>0.626</td>\n",
       "      <td>1.0</td>\n",
       "      <td>-5.833</td>\n",
       "      <td>1.0</td>\n",
       "      <td>0.1250</td>\n",
       "      <td>0.0589</td>\n",
       "      <td>0.000060</td>\n",
       "      <td>0.396</td>\n",
       "      <td>0.350</td>\n",
       "      <td>91.030</td>\n",
       "    </tr>\n",
       "  </tbody>\n",
       "</table>\n",
       "</div>"
      ],
      "text/plain": [
       "                      id                          name       artists  \\\n",
       "0  6DCZcSspjsKoFjzjrWoCd                    God's Plan         Drake   \n",
       "1  3ee8Jmje8o58CHK66QrVC                          SAD!  XXXTENTACION   \n",
       "2  0e7ipj03S05BNilyu5bRz    rockstar (feat. 21 Savage)   Post Malone   \n",
       "3  3swc6WTsr7rl9DqQKQA55  Psycho (feat. Ty Dolla $ign)   Post Malone   \n",
       "4  2G7V7zsVDxg1yRsu7Ew9R                In My Feelings         Drake   \n",
       "\n",
       "   danceability  energy  key  loudness  mode  speechiness  acousticness  \\\n",
       "0         0.754   0.449  7.0    -9.211   1.0       0.1090        0.0332   \n",
       "1         0.740   0.613  8.0    -4.880   1.0       0.1450        0.2580   \n",
       "2         0.587   0.535  5.0    -6.090   0.0       0.0898        0.1170   \n",
       "3         0.739   0.559  8.0    -8.011   1.0       0.1170        0.5800   \n",
       "4         0.835   0.626  1.0    -5.833   1.0       0.1250        0.0589   \n",
       "\n",
       "   instrumentalness  liveness  valence    tempo  \n",
       "0          0.000083     0.552    0.357   77.169  \n",
       "1          0.003720     0.123    0.473   75.023  \n",
       "2          0.000066     0.131    0.140  159.847  \n",
       "3          0.000000     0.112    0.439  140.124  \n",
       "4          0.000060     0.396    0.350   91.030  "
      ]
     },
     "execution_count": 190,
     "metadata": {},
     "output_type": "execute_result"
    }
   ],
   "source": [
    "top2018_df.head()"
   ]
  },
  {
   "cell_type": "markdown",
   "metadata": {},
   "source": [
    "## Analyze Spotify's top songs in 2018"
   ]
  },
  {
   "cell_type": "markdown",
   "metadata": {},
   "source": [
    "### Plot frequency of artists appearing in the top 100 charts"
   ]
  },
  {
   "cell_type": "code",
   "execution_count": 131,
   "metadata": {},
   "outputs": [
    {
     "name": "stderr",
     "output_type": "stream",
     "text": [
      "C:\\Users\\Tobi\\Anaconda2\\lib\\site-packages\\IPython\\core\\display.py:689: UserWarning:\n",
      "\n",
      "Consider using IPython.display.IFrame instead\n",
      "\n"
     ]
    },
    {
     "data": {
      "text/html": [
       "<iframe id=\"igraph\" scrolling=\"no\" style=\"border:none;\" seamless=\"seamless\" src=\"https://plot.ly/~togobingi/18.embed\" height=\"525px\" width=\"100%\"></iframe>"
      ],
      "text/plain": [
       "<chart_studio.tools.PlotlyDisplay object>"
      ]
     },
     "execution_count": 131,
     "metadata": {},
     "output_type": "execute_result"
    }
   ],
   "source": [
    "trace4 = go.Histogram(x=top2018_df['artists'])\n",
    "data4 = [trace4]\n",
    "py.iplot(data4)"
   ]
  },
  {
   "cell_type": "code",
   "execution_count": 191,
   "metadata": {},
   "outputs": [
    {
     "data": {
      "text/plain": [
       "id                  2G7V7zsVDxg1yRsu7Ew9R\n",
       "name                       In My Feelings\n",
       "artists                             Drake\n",
       "danceability                        0.835\n",
       "energy                              0.626\n",
       "key                                     1\n",
       "loudness                           -5.833\n",
       "mode                                    1\n",
       "speechiness                         0.125\n",
       "acousticness                       0.0589\n",
       "instrumentalness                    6e-05\n",
       "liveness                            0.396\n",
       "valence                              0.35\n",
       "tempo                               91.03\n",
       "Name: 4, dtype: object"
      ]
     },
     "execution_count": 191,
     "metadata": {},
     "output_type": "execute_result"
    }
   ],
   "source": [
    "#View infomration on the 4th item in our dataset \n",
    "top2018_df.iloc[4]"
   ]
  },
  {
   "cell_type": "markdown",
   "metadata": {},
   "source": [
    "## See artists who appread most in the top 100\n"
   ]
  },
  {
   "cell_type": "code",
   "execution_count": 184,
   "metadata": {},
   "outputs": [
    {
     "data": {
      "text/plain": [
       "Post Malone     6\n",
       "XXXTENTACION    6\n",
       "Drake           4\n",
       "Marshmello      3\n",
       "Name: artists, dtype: int64"
      ]
     },
     "execution_count": 184,
     "metadata": {},
     "output_type": "execute_result"
    }
   ],
   "source": [
    "#See artists who appread most in the top 100\n",
    "top2018_df['artists'].value_counts().head(4)"
   ]
  },
  {
   "cell_type": "code",
   "execution_count": 142,
   "metadata": {},
   "outputs": [
    {
     "name": "stderr",
     "output_type": "stream",
     "text": [
      "C:\\Users\\Tobi\\Anaconda2\\lib\\site-packages\\IPython\\core\\display.py:689: UserWarning:\n",
      "\n",
      "Consider using IPython.display.IFrame instead\n",
      "\n"
     ]
    },
    {
     "data": {
      "text/html": [
       "<iframe id=\"igraph\" scrolling=\"no\" style=\"border:none;\" seamless=\"seamless\" src=\"https://plot.ly/~togobingi/24.embed\" height=\"525px\" width=\"100%\"></iframe>"
      ],
      "text/plain": [
       "<chart_studio.tools.PlotlyDisplay object>"
      ]
     },
     "execution_count": 142,
     "metadata": {},
     "output_type": "execute_result"
    }
   ],
   "source": [
    "trace5 = go.Histogram(x=top2018_df['key'])\n",
    "data5 = [trace5]\n",
    "py.iplot(data5)"
   ]
  },
  {
   "cell_type": "code",
   "execution_count": 136,
   "metadata": {
    "collapsed": true
   },
   "outputs": [
    {
     "data": {
      "text/plain": [
       "0                                            God's Plan\n",
       "1                                                  SAD!\n",
       "2                            rockstar (feat. 21 Savage)\n",
       "3                          Psycho (feat. Ty Dolla $ign)\n",
       "4                                        In My Feelings\n",
       "5                                            Better Now\n",
       "6                                             I Like It\n",
       "7                              One Kiss (with Dua Lipa)\n",
       "8                                                 IDGAF\n",
       "9                                               FRIENDS\n",
       "10                                               Havana\n",
       "11                                         Lucid Dreams\n",
       "12                                        Nice For What\n",
       "13                       Girls Like You (feat. Cardi B)\n",
       "14                                           The Middle\n",
       "15                             All The Stars (with SZA)\n",
       "16                                 no tears left to cry\n",
       "17                                                    X\n",
       "18                                            Moonlight\n",
       "19                             Look Alive (feat. Drake)\n",
       "20    These Days (feat. Jess Glynne, Macklemore & Da...\n",
       "21                                      Te Bot? - Remix\n",
       "22                                                 Mine\n",
       "23                                           Youngblood\n",
       "24                                            New Rules\n",
       "25                                         Shape of You\n",
       "26                             Love Lies (with Normani)\n",
       "27             Meant to Be (feat. Florida Georgia Line)\n",
       "28                                       Jocelyn Flores\n",
       "29                                              Perfect\n",
       "                            ...                        \n",
       "70    Let Me Go (with Alesso, Florida Georgia Line &...\n",
       "71                                        Feel It Still\n",
       "72                    Pray For Me (with Kendrick Lamar)\n",
       "73                                      Walk It Talk It\n",
       "74                                Him & I (with Halsey)\n",
       "75                                          Candy Paint\n",
       "76                                      Congratulations\n",
       "77          1, 2, 3 (feat. Jason Derulo & De La Ghetto)\n",
       "78                                             Criminal\n",
       "79                                            Plug Walk\n",
       "80                                 lovely (with Khalid)\n",
       "81                                             Stir Fry\n",
       "82                                              HUMBLE.\n",
       "83                                           Vaina Loca\n",
       "84                  Perfect Duet (Ed Sheeran & Beyonc?)\n",
       "85                        Coraz?n (feat. Nego do Borel)\n",
       "86                                   Young Dumb & Broke\n",
       "87                                     S?guelo Bailando\n",
       "88                                             Downtown\n",
       "89                                                Bella\n",
       "90                            Promises (with Sam Smith)\n",
       "91                                           Yes Indeed\n",
       "92                                     I Like Me Better\n",
       "93                                           This Is Me\n",
       "94                   Everybody Dies In Their Nightmares\n",
       "95                                    Rewrite The Stars\n",
       "96                    I Miss You (feat. Julia Michaels)\n",
       "97                                           No Brainer\n",
       "98                          Dusk Till Dawn - Radio Edit\n",
       "99                                           Be Alright\n",
       "Name: name, Length: 100, dtype: object"
      ]
     },
     "execution_count": 136,
     "metadata": {},
     "output_type": "execute_result"
    }
   ],
   "source": [
    "top2018_df['name']"
   ]
  },
  {
   "cell_type": "markdown",
   "metadata": {},
   "source": [
    "## Audio Features of the Top 100 Songs"
   ]
  },
  {
   "cell_type": "code",
   "execution_count": 138,
   "metadata": {},
   "outputs": [
    {
     "data": {
      "image/png": "[encoded data removed]",
      "text/plain": [
       "<Figure size 1080x288 with 3 Axes>"
      ]
     },
     "metadata": {},
     "output_type": "display_data"
    },
    {
     "data": {
      "image/png": "[encoded data removed]",
      "text/plain": [
       "<Figure size 1080x288 with 3 Axes>"
      ]
     },
     "metadata": {},
     "output_type": "display_data"
    },
    {
     "data": {
      "image/png": "[encoded data removed]",
      "text/plain": [
       "<Figure size 1080x288 with 3 Axes>"
      ]
     },
     "metadata": {},
     "output_type": "display_data"
    }
   ],
   "source": [
    "f, axes = plt.subplots(1, 3, sharey=True, figsize=(15, 4))\n",
    "\n",
    "sns.distplot(top2018_df['valence'], ax=axes[0], color='green')\n",
    "sns.distplot(top2018_df['danceability'], ax=axes[1],color='green')\n",
    "sns.distplot(top2018_df['loudness'], ax=axes[2],color='green')\n",
    "\n",
    "f, axes = plt.subplots(1, 3, sharey=True, figsize=(15, 4))\n",
    "sns.distplot(top2018_df['acousticness'], ax=axes[0],color='green')\n",
    "sns.distplot(top2018_df['energy'], ax=axes[1],color='green')\n",
    "sns.distplot(top2018_df['liveness'], ax=axes[2],color='green')\n",
    "\n",
    "f, axes = plt.subplots(1, 3, sharey=True, figsize=(15, 4))\n",
    "sns.distplot(top2018_df['speechiness'], ax=axes[0],color='green')\n",
    "sns.distplot(top2018_df['instrumentalness'], ax=axes[1],color='green')\n",
    "plt.show()"
   ]
  },
  {
   "cell_type": "markdown",
   "metadata": {},
   "source": [
    "## Correlation between audio features"
   ]
  },
  {
   "cell_type": "code",
   "execution_count": 182,
   "metadata": {},
   "outputs": [
    {
     "data": {
      "text/plain": [
       "<matplotlib.axes._subplots.AxesSubplot at 0x25ad6ff7e10>"
      ]
     },
     "execution_count": 182,
     "metadata": {},
     "output_type": "execute_result"
    },
    {
     "data": {
      "image/png": "[encoded data removed]",
      "text/plain": [
       "<Figure size 432x288 with 2 Axes>"
      ]
     },
     "metadata": {},
     "output_type": "display_data"
    }
   ],
   "source": [
    "sns.heatmap(top2018_df.corr())"
   ]
  },
  {
   "cell_type": "markdown",
   "metadata": {},
   "source": [
    "## Radar Charts of Top 100 Songs"
   ]
  },
  {
   "cell_type": "code",
   "execution_count": 176,
   "metadata": {},
   "outputs": [
    {
     "name": "stderr",
     "output_type": "stream",
     "text": [
      "C:\\Users\\Tobi\\Anaconda2\\lib\\site-packages\\IPython\\core\\display.py:689: UserWarning:\n",
      "\n",
      "Consider using IPython.display.IFrame instead\n",
      "\n"
     ]
    },
    {
     "data": {
      "text/html": [
       "<iframe id=\"igraph\" scrolling=\"no\" style=\"border:none;\" seamless=\"seamless\" src=\"https://plot.ly/~togobingi/27.embed\" height=\"525px\" width=\"100%\"></iframe>"
      ],
      "text/plain": [
       "<chart_studio.tools.PlotlyDisplay object>"
      ]
     },
     "execution_count": 176,
     "metadata": {},
     "output_type": "execute_result"
    }
   ],
   "source": [
    "data6 = [go.Scatterpolar(\n",
    "  r = [valence_avg, dance_avg, acoustic_avg, energy_avg, speech_avg, liveness_avg],\n",
    "  theta = ['Valence','Danceability','Acousticness', 'Energy', 'Speechiness','Liveness'],\n",
    "  fill = 'toself'\n",
    "), go.Scatterpolar(\n",
    "      r = [valence_avg2, dance_avg2, acoustic_avg2, energy_avg2, speech_avg2, liveness_avg2],\n",
    "      theta = ['Valence','Danceability','Acousticness', 'Energy', 'Speechiness','Liveness'],\n",
    "      fill = 'toself',\n",
    "      name = 'Group B'\n",
    "    )]\n",
    "\n",
    "layout = go.Layout(\n",
    "  polar = dict(\n",
    "    radialaxis = dict(\n",
    "      visible = True,\n",
    "      range = [0.00, 1.00]\n",
    "    )\n",
    "  ),\n",
    "  showlegend = False\n",
    ")\n",
    "\n",
    "fig = go.Figure(data=data6, layout=layout)\n",
    "py.iplot(fig, filename = \"basic_radar\")"
   ]
  },
  {
   "cell_type": "markdown",
   "metadata": {},
   "source": [
    "## Get average of all songs to plot on Radar Chart"
   ]
  },
  {
   "cell_type": "code",
   "execution_count": 170,
   "metadata": {},
   "outputs": [],
   "source": [
    "dance_avg = top2018_df['danceability'].mean()\n",
    "speech_avg =top2018_df['speechiness'].mean()\n",
    "acoustic_avg =top2018_df['acousticness'].mean()\n",
    "energy_avg =top2018_df['energy'].mean()\n",
    "liveness_avg =top2018_df['liveness'].mean()\n",
    "valence_avg =top2018_df['valence'].mean()"
   ]
  },
  {
   "cell_type": "code",
   "execution_count": 175,
   "metadata": {},
   "outputs": [],
   "source": [
    "dance_avg2 = df_features['danceability'].mean()\n",
    "speech_avg2 =df_features['speechiness'].mean()\n",
    "acoustic_avg2 =df_features['acousticness'].mean()\n",
    "energy_avg2 =df_features['energy'].mean()\n",
    "liveness_avg2 =df_features['liveness'].mean()\n",
    "valence_avg2 =df_features['valence'].mean()"
   ]
  },
  {
   "cell_type": "code",
   "execution_count": null,
   "metadata": {},
   "outputs": [],
   "source": []
  }
 ],
 "metadata": {
  "kernelspec": {
   "display_name": "Python 3",
   "language": "python",
   "name": "python3"
  },
  "language_info": {
   "codemirror_mode": {
    "name": "ipython",
    "version": 3
   },
   "file_extension": ".py",
   "mimetype": "text/x-python",
   "name": "python",
   "nbconvert_exporter": "python",
   "pygments_lexer": "ipython3",
   "version": "3.7.3"
  },
  "varInspector": {
   "cols": {
    "lenName": 16,
    "lenType": 16,
    "lenVar": 40
   },
   "kernels_config": {
    "python": {
     "delete_cmd_postfix": "",
     "delete_cmd_prefix": "del ",
     "library": "var_list.py",
     "varRefreshCmd": "print(var_dic_list())"
    },
    "r": {
     "delete_cmd_postfix": ") ",
     "delete_cmd_prefix": "rm(",
     "library": "var_list.r",
     "varRefreshCmd": "cat(var_dic_list()) "
    }
   },
   "types_to_exclude": [
    "module",
    "function",
    "builtin_function_or_method",
    "instance",
    "_Feature"
   ],
   "window_display": false
  }
 },
 "nbformat": 4,
 "nbformat_minor": 2
}
